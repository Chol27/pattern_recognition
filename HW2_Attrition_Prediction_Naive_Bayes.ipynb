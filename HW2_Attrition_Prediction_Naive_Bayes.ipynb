{
  "nbformat": 4,
  "nbformat_minor": 0,
  "metadata": {
    "colab": {
      "name": "HW2_Attrition_Prediction_Naive_Bayes.ipynb",
      "provenance": [],
      "collapsed_sections": [],
      "toc_visible": true,
      "authorship_tag": "ABX9TyMff1k3IgeTy+j+3udzzvlh"
    },
    "kernelspec": {
      "name": "python3",
      "display_name": "Python 3"
    },
    "language_info": {
      "name": "python"
    }
  },
  "cells": [
    {
      "cell_type": "markdown",
      "source": [
        "# Prepare Data"
      ],
      "metadata": {
        "id": "MbXNKvgZKmUN"
      }
    },
    {
      "cell_type": "code",
      "execution_count": 540,
      "metadata": {
        "id": "FbJXOXb1Flnz",
        "colab": {
          "base_uri": "https://localhost:8080/"
        },
        "outputId": "33eb4574-6bb5-481e-da7c-46a97c644000"
      },
      "outputs": [
        {
          "output_type": "stream",
          "name": "stdout",
          "text": [
            "--2022-02-09 09:47:36--  https://raw.githubusercontent.com/ekapolc/pattern_2022/main/HW/HW02/hr-employee-attrition-with-null.csv\n",
            "Resolving raw.githubusercontent.com (raw.githubusercontent.com)... 185.199.108.133, 185.199.109.133, 185.199.110.133, ...\n",
            "Connecting to raw.githubusercontent.com (raw.githubusercontent.com)|185.199.108.133|:443... connected.\n",
            "HTTP request sent, awaiting response... 200 OK\n",
            "Length: 259872 (254K) [text/plain]\n",
            "Saving to: ‘hr-employee-attrition-with-null.csv.6’\n",
            "\n",
            "\r          hr-employ   0%[                    ]       0  --.-KB/s               \rhr-employee-attriti 100%[===================>] 253.78K  --.-KB/s    in 0.004s  \n",
            "\n",
            "2022-02-09 09:47:36 (63.0 MB/s) - ‘hr-employee-attrition-with-null.csv.6’ saved [259872/259872]\n",
            "\n"
          ]
        }
      ],
      "source": [
        "!wget 'https://raw.githubusercontent.com/ekapolc/pattern_2022/main/HW/HW02/hr-employee-attrition-with-null.csv' "
      ]
    },
    {
      "cell_type": "code",
      "source": [
        "import pandas as pd\n",
        "import numpy as np\n",
        "import matplotlib.pyplot as plt"
      ],
      "metadata": {
        "id": "07PgNkBXHchX"
      },
      "execution_count": 541,
      "outputs": []
    },
    {
      "cell_type": "code",
      "source": [
        "all = pd.read_csv('hr-employee-attrition-with-null.csv')"
      ],
      "metadata": {
        "id": "Opf4VqIxHf3i"
      },
      "execution_count": 542,
      "outputs": []
    },
    {
      "cell_type": "code",
      "source": [
        "all.info()"
      ],
      "metadata": {
        "id": "BO7AlbQpHx13",
        "colab": {
          "base_uri": "https://localhost:8080/"
        },
        "outputId": "c5ce021f-5a87-473e-e405-c3d17db3f309"
      },
      "execution_count": 543,
      "outputs": [
        {
          "output_type": "stream",
          "name": "stdout",
          "text": [
            "<class 'pandas.core.frame.DataFrame'>\n",
            "RangeIndex: 1470 entries, 0 to 1469\n",
            "Data columns (total 36 columns):\n",
            " #   Column                    Non-Null Count  Dtype  \n",
            "---  ------                    --------------  -----  \n",
            " 0   Unnamed: 0                1470 non-null   int64  \n",
            " 1   Age                       1176 non-null   float64\n",
            " 2   Attrition                 1470 non-null   object \n",
            " 3   BusinessTravel            1176 non-null   object \n",
            " 4   DailyRate                 1176 non-null   float64\n",
            " 5   Department                1176 non-null   object \n",
            " 6   DistanceFromHome          1176 non-null   float64\n",
            " 7   Education                 1176 non-null   float64\n",
            " 8   EducationField            1176 non-null   object \n",
            " 9   EmployeeCount             1176 non-null   float64\n",
            " 10  EmployeeNumber            1176 non-null   float64\n",
            " 11  EnvironmentSatisfaction   1176 non-null   float64\n",
            " 12  Gender                    1176 non-null   object \n",
            " 13  HourlyRate                1176 non-null   float64\n",
            " 14  JobInvolvement            1176 non-null   float64\n",
            " 15  JobLevel                  1176 non-null   float64\n",
            " 16  JobRole                   1176 non-null   object \n",
            " 17  JobSatisfaction           1176 non-null   float64\n",
            " 18  MaritalStatus             1176 non-null   object \n",
            " 19  MonthlyIncome             1176 non-null   float64\n",
            " 20  MonthlyRate               1176 non-null   float64\n",
            " 21  NumCompaniesWorked        1176 non-null   float64\n",
            " 22  Over18                    1176 non-null   object \n",
            " 23  OverTime                  1176 non-null   object \n",
            " 24  PercentSalaryHike         1176 non-null   float64\n",
            " 25  PerformanceRating         1176 non-null   float64\n",
            " 26  RelationshipSatisfaction  1176 non-null   float64\n",
            " 27  StandardHours             1176 non-null   float64\n",
            " 28  StockOptionLevel          1176 non-null   float64\n",
            " 29  TotalWorkingYears         1176 non-null   float64\n",
            " 30  TrainingTimesLastYear     1176 non-null   float64\n",
            " 31  WorkLifeBalance           1176 non-null   float64\n",
            " 32  YearsAtCompany            1176 non-null   float64\n",
            " 33  YearsInCurrentRole        1176 non-null   float64\n",
            " 34  YearsSinceLastPromotion   1176 non-null   float64\n",
            " 35  YearsWithCurrManager      1176 non-null   float64\n",
            "dtypes: float64(26), int64(1), object(9)\n",
            "memory usage: 413.6+ KB\n"
          ]
        }
      ]
    },
    {
      "cell_type": "code",
      "source": [
        "all.head()"
      ],
      "metadata": {
        "colab": {
          "base_uri": "https://localhost:8080/",
          "height": 357
        },
        "id": "gtsJRZ1YIm-F",
        "outputId": "ea0e9606-4433-4dc3-ee63-eefffa5db26b"
      },
      "execution_count": 544,
      "outputs": [
        {
          "output_type": "execute_result",
          "data": {
            "text/html": [
              "\n",
              "  <div id=\"df-bf2fd367-5004-4419-b85e-cde2a9c8a1e1\">\n",
              "    <div class=\"colab-df-container\">\n",
              "      <div>\n",
              "<style scoped>\n",
              "    .dataframe tbody tr th:only-of-type {\n",
              "        vertical-align: middle;\n",
              "    }\n",
              "\n",
              "    .dataframe tbody tr th {\n",
              "        vertical-align: top;\n",
              "    }\n",
              "\n",
              "    .dataframe thead th {\n",
              "        text-align: right;\n",
              "    }\n",
              "</style>\n",
              "<table border=\"1\" class=\"dataframe\">\n",
              "  <thead>\n",
              "    <tr style=\"text-align: right;\">\n",
              "      <th></th>\n",
              "      <th>Unnamed: 0</th>\n",
              "      <th>Age</th>\n",
              "      <th>Attrition</th>\n",
              "      <th>BusinessTravel</th>\n",
              "      <th>DailyRate</th>\n",
              "      <th>Department</th>\n",
              "      <th>DistanceFromHome</th>\n",
              "      <th>Education</th>\n",
              "      <th>EducationField</th>\n",
              "      <th>EmployeeCount</th>\n",
              "      <th>EmployeeNumber</th>\n",
              "      <th>EnvironmentSatisfaction</th>\n",
              "      <th>Gender</th>\n",
              "      <th>HourlyRate</th>\n",
              "      <th>JobInvolvement</th>\n",
              "      <th>JobLevel</th>\n",
              "      <th>JobRole</th>\n",
              "      <th>JobSatisfaction</th>\n",
              "      <th>MaritalStatus</th>\n",
              "      <th>MonthlyIncome</th>\n",
              "      <th>MonthlyRate</th>\n",
              "      <th>NumCompaniesWorked</th>\n",
              "      <th>Over18</th>\n",
              "      <th>OverTime</th>\n",
              "      <th>PercentSalaryHike</th>\n",
              "      <th>PerformanceRating</th>\n",
              "      <th>RelationshipSatisfaction</th>\n",
              "      <th>StandardHours</th>\n",
              "      <th>StockOptionLevel</th>\n",
              "      <th>TotalWorkingYears</th>\n",
              "      <th>TrainingTimesLastYear</th>\n",
              "      <th>WorkLifeBalance</th>\n",
              "      <th>YearsAtCompany</th>\n",
              "      <th>YearsInCurrentRole</th>\n",
              "      <th>YearsSinceLastPromotion</th>\n",
              "      <th>YearsWithCurrManager</th>\n",
              "    </tr>\n",
              "  </thead>\n",
              "  <tbody>\n",
              "    <tr>\n",
              "      <th>0</th>\n",
              "      <td>0</td>\n",
              "      <td>41.0</td>\n",
              "      <td>Yes</td>\n",
              "      <td>Travel_Rarely</td>\n",
              "      <td>NaN</td>\n",
              "      <td>NaN</td>\n",
              "      <td>1.0</td>\n",
              "      <td>NaN</td>\n",
              "      <td>Life Sciences</td>\n",
              "      <td>1.0</td>\n",
              "      <td>1.0</td>\n",
              "      <td>2.0</td>\n",
              "      <td>Female</td>\n",
              "      <td>94.0</td>\n",
              "      <td>3.0</td>\n",
              "      <td>2.0</td>\n",
              "      <td>NaN</td>\n",
              "      <td>4.0</td>\n",
              "      <td>Single</td>\n",
              "      <td>NaN</td>\n",
              "      <td>19479.0</td>\n",
              "      <td>8.0</td>\n",
              "      <td>Y</td>\n",
              "      <td>Yes</td>\n",
              "      <td>11.0</td>\n",
              "      <td>NaN</td>\n",
              "      <td>1.0</td>\n",
              "      <td>80.0</td>\n",
              "      <td>0.0</td>\n",
              "      <td>8.0</td>\n",
              "      <td>0.0</td>\n",
              "      <td>NaN</td>\n",
              "      <td>6.0</td>\n",
              "      <td>NaN</td>\n",
              "      <td>0.0</td>\n",
              "      <td>NaN</td>\n",
              "    </tr>\n",
              "    <tr>\n",
              "      <th>1</th>\n",
              "      <td>1</td>\n",
              "      <td>NaN</td>\n",
              "      <td>No</td>\n",
              "      <td>NaN</td>\n",
              "      <td>279.0</td>\n",
              "      <td>Research &amp; Development</td>\n",
              "      <td>NaN</td>\n",
              "      <td>NaN</td>\n",
              "      <td>Life Sciences</td>\n",
              "      <td>1.0</td>\n",
              "      <td>2.0</td>\n",
              "      <td>3.0</td>\n",
              "      <td>Male</td>\n",
              "      <td>61.0</td>\n",
              "      <td>2.0</td>\n",
              "      <td>2.0</td>\n",
              "      <td>Research Scientist</td>\n",
              "      <td>2.0</td>\n",
              "      <td>Married</td>\n",
              "      <td>NaN</td>\n",
              "      <td>24907.0</td>\n",
              "      <td>1.0</td>\n",
              "      <td>Y</td>\n",
              "      <td>NaN</td>\n",
              "      <td>23.0</td>\n",
              "      <td>NaN</td>\n",
              "      <td>4.0</td>\n",
              "      <td>NaN</td>\n",
              "      <td>1.0</td>\n",
              "      <td>10.0</td>\n",
              "      <td>NaN</td>\n",
              "      <td>3.0</td>\n",
              "      <td>10.0</td>\n",
              "      <td>NaN</td>\n",
              "      <td>NaN</td>\n",
              "      <td>7.0</td>\n",
              "    </tr>\n",
              "    <tr>\n",
              "      <th>2</th>\n",
              "      <td>2</td>\n",
              "      <td>37.0</td>\n",
              "      <td>Yes</td>\n",
              "      <td>NaN</td>\n",
              "      <td>1373.0</td>\n",
              "      <td>NaN</td>\n",
              "      <td>2.0</td>\n",
              "      <td>2.0</td>\n",
              "      <td>NaN</td>\n",
              "      <td>1.0</td>\n",
              "      <td>4.0</td>\n",
              "      <td>NaN</td>\n",
              "      <td>Male</td>\n",
              "      <td>92.0</td>\n",
              "      <td>2.0</td>\n",
              "      <td>1.0</td>\n",
              "      <td>Laboratory Technician</td>\n",
              "      <td>3.0</td>\n",
              "      <td>Single</td>\n",
              "      <td>NaN</td>\n",
              "      <td>2396.0</td>\n",
              "      <td>6.0</td>\n",
              "      <td>Y</td>\n",
              "      <td>Yes</td>\n",
              "      <td>15.0</td>\n",
              "      <td>3.0</td>\n",
              "      <td>NaN</td>\n",
              "      <td>80.0</td>\n",
              "      <td>0.0</td>\n",
              "      <td>7.0</td>\n",
              "      <td>3.0</td>\n",
              "      <td>NaN</td>\n",
              "      <td>NaN</td>\n",
              "      <td>0.0</td>\n",
              "      <td>NaN</td>\n",
              "      <td>0.0</td>\n",
              "    </tr>\n",
              "    <tr>\n",
              "      <th>3</th>\n",
              "      <td>3</td>\n",
              "      <td>NaN</td>\n",
              "      <td>No</td>\n",
              "      <td>Travel_Frequently</td>\n",
              "      <td>1392.0</td>\n",
              "      <td>Research &amp; Development</td>\n",
              "      <td>3.0</td>\n",
              "      <td>4.0</td>\n",
              "      <td>Life Sciences</td>\n",
              "      <td>NaN</td>\n",
              "      <td>NaN</td>\n",
              "      <td>NaN</td>\n",
              "      <td>Female</td>\n",
              "      <td>56.0</td>\n",
              "      <td>3.0</td>\n",
              "      <td>1.0</td>\n",
              "      <td>Research Scientist</td>\n",
              "      <td>3.0</td>\n",
              "      <td>NaN</td>\n",
              "      <td>2909.0</td>\n",
              "      <td>23159.0</td>\n",
              "      <td>1.0</td>\n",
              "      <td>Y</td>\n",
              "      <td>Yes</td>\n",
              "      <td>11.0</td>\n",
              "      <td>3.0</td>\n",
              "      <td>3.0</td>\n",
              "      <td>NaN</td>\n",
              "      <td>NaN</td>\n",
              "      <td>8.0</td>\n",
              "      <td>3.0</td>\n",
              "      <td>NaN</td>\n",
              "      <td>8.0</td>\n",
              "      <td>NaN</td>\n",
              "      <td>3.0</td>\n",
              "      <td>0.0</td>\n",
              "    </tr>\n",
              "    <tr>\n",
              "      <th>4</th>\n",
              "      <td>4</td>\n",
              "      <td>27.0</td>\n",
              "      <td>No</td>\n",
              "      <td>Travel_Rarely</td>\n",
              "      <td>591.0</td>\n",
              "      <td>Research &amp; Development</td>\n",
              "      <td>2.0</td>\n",
              "      <td>1.0</td>\n",
              "      <td>Medical</td>\n",
              "      <td>1.0</td>\n",
              "      <td>7.0</td>\n",
              "      <td>1.0</td>\n",
              "      <td>Male</td>\n",
              "      <td>40.0</td>\n",
              "      <td>NaN</td>\n",
              "      <td>1.0</td>\n",
              "      <td>NaN</td>\n",
              "      <td>2.0</td>\n",
              "      <td>NaN</td>\n",
              "      <td>3468.0</td>\n",
              "      <td>16632.0</td>\n",
              "      <td>NaN</td>\n",
              "      <td>Y</td>\n",
              "      <td>No</td>\n",
              "      <td>NaN</td>\n",
              "      <td>3.0</td>\n",
              "      <td>4.0</td>\n",
              "      <td>80.0</td>\n",
              "      <td>1.0</td>\n",
              "      <td>6.0</td>\n",
              "      <td>NaN</td>\n",
              "      <td>3.0</td>\n",
              "      <td>2.0</td>\n",
              "      <td>2.0</td>\n",
              "      <td>2.0</td>\n",
              "      <td>NaN</td>\n",
              "    </tr>\n",
              "  </tbody>\n",
              "</table>\n",
              "</div>\n",
              "      <button class=\"colab-df-convert\" onclick=\"convertToInteractive('df-bf2fd367-5004-4419-b85e-cde2a9c8a1e1')\"\n",
              "              title=\"Convert this dataframe to an interactive table.\"\n",
              "              style=\"display:none;\">\n",
              "        \n",
              "  <svg xmlns=\"http://www.w3.org/2000/svg\" height=\"24px\"viewBox=\"0 0 24 24\"\n",
              "       width=\"24px\">\n",
              "    <path d=\"M0 0h24v24H0V0z\" fill=\"none\"/>\n",
              "    <path d=\"M18.56 5.44l.94 2.06.94-2.06 2.06-.94-2.06-.94-.94-2.06-.94 2.06-2.06.94zm-11 1L8.5 8.5l.94-2.06 2.06-.94-2.06-.94L8.5 2.5l-.94 2.06-2.06.94zm10 10l.94 2.06.94-2.06 2.06-.94-2.06-.94-.94-2.06-.94 2.06-2.06.94z\"/><path d=\"M17.41 7.96l-1.37-1.37c-.4-.4-.92-.59-1.43-.59-.52 0-1.04.2-1.43.59L10.3 9.45l-7.72 7.72c-.78.78-.78 2.05 0 2.83L4 21.41c.39.39.9.59 1.41.59.51 0 1.02-.2 1.41-.59l7.78-7.78 2.81-2.81c.8-.78.8-2.07 0-2.86zM5.41 20L4 18.59l7.72-7.72 1.47 1.35L5.41 20z\"/>\n",
              "  </svg>\n",
              "      </button>\n",
              "      \n",
              "  <style>\n",
              "    .colab-df-container {\n",
              "      display:flex;\n",
              "      flex-wrap:wrap;\n",
              "      gap: 12px;\n",
              "    }\n",
              "\n",
              "    .colab-df-convert {\n",
              "      background-color: #E8F0FE;\n",
              "      border: none;\n",
              "      border-radius: 50%;\n",
              "      cursor: pointer;\n",
              "      display: none;\n",
              "      fill: #1967D2;\n",
              "      height: 32px;\n",
              "      padding: 0 0 0 0;\n",
              "      width: 32px;\n",
              "    }\n",
              "\n",
              "    .colab-df-convert:hover {\n",
              "      background-color: #E2EBFA;\n",
              "      box-shadow: 0px 1px 2px rgba(60, 64, 67, 0.3), 0px 1px 3px 1px rgba(60, 64, 67, 0.15);\n",
              "      fill: #174EA6;\n",
              "    }\n",
              "\n",
              "    [theme=dark] .colab-df-convert {\n",
              "      background-color: #3B4455;\n",
              "      fill: #D2E3FC;\n",
              "    }\n",
              "\n",
              "    [theme=dark] .colab-df-convert:hover {\n",
              "      background-color: #434B5C;\n",
              "      box-shadow: 0px 1px 3px 1px rgba(0, 0, 0, 0.15);\n",
              "      filter: drop-shadow(0px 1px 2px rgba(0, 0, 0, 0.3));\n",
              "      fill: #FFFFFF;\n",
              "    }\n",
              "  </style>\n",
              "\n",
              "      <script>\n",
              "        const buttonEl =\n",
              "          document.querySelector('#df-bf2fd367-5004-4419-b85e-cde2a9c8a1e1 button.colab-df-convert');\n",
              "        buttonEl.style.display =\n",
              "          google.colab.kernel.accessAllowed ? 'block' : 'none';\n",
              "\n",
              "        async function convertToInteractive(key) {\n",
              "          const element = document.querySelector('#df-bf2fd367-5004-4419-b85e-cde2a9c8a1e1');\n",
              "          const dataTable =\n",
              "            await google.colab.kernel.invokeFunction('convertToInteractive',\n",
              "                                                     [key], {});\n",
              "          if (!dataTable) return;\n",
              "\n",
              "          const docLinkHtml = 'Like what you see? Visit the ' +\n",
              "            '<a target=\"_blank\" href=https://colab.research.google.com/notebooks/data_table.ipynb>data table notebook</a>'\n",
              "            + ' to learn more about interactive tables.';\n",
              "          element.innerHTML = '';\n",
              "          dataTable['output_type'] = 'display_data';\n",
              "          await google.colab.output.renderOutput(dataTable, element);\n",
              "          const docLink = document.createElement('div');\n",
              "          docLink.innerHTML = docLinkHtml;\n",
              "          element.appendChild(docLink);\n",
              "        }\n",
              "      </script>\n",
              "    </div>\n",
              "  </div>\n",
              "  "
            ],
            "text/plain": [
              "   Unnamed: 0   Age  ... YearsSinceLastPromotion YearsWithCurrManager\n",
              "0           0  41.0  ...                     0.0                  NaN\n",
              "1           1   NaN  ...                     NaN                  7.0\n",
              "2           2  37.0  ...                     NaN                  0.0\n",
              "3           3   NaN  ...                     3.0                  0.0\n",
              "4           4  27.0  ...                     2.0                  NaN\n",
              "\n",
              "[5 rows x 36 columns]"
            ]
          },
          "metadata": {},
          "execution_count": 544
        }
      ]
    },
    {
      "cell_type": "code",
      "source": [
        "cat_cols = [\"BusinessTravel\", \"Department\", \"EducationField\", \"Gender\", \"JobRole\", \"MaritalStatus\", \"Over18\", \"OverTime\"]\n",
        "all.loc[all[\"Attrition\"] == \"No\", \"Attrition\"] = 0.0\n",
        "all.loc[all[\"Attrition\"] == \"Yes\", \"Attrition\"] = 1.0\n",
        "for col in cat_cols:\n",
        "    all[col] = pd.Categorical(all[col]).codes"
      ],
      "metadata": {
        "id": "creG5BsvItoD"
      },
      "execution_count": 545,
      "outputs": []
    },
    {
      "cell_type": "code",
      "source": [
        "all = all.drop(columns = [\"EmployeeNumber\", \"Unnamed: 0\"])"
      ],
      "metadata": {
        "id": "-QSeFD_tJHQ5"
      },
      "execution_count": 546,
      "outputs": []
    },
    {
      "cell_type": "code",
      "source": [
        "from sklearn.model_selection import train_test_split"
      ],
      "metadata": {
        "id": "g3dJZt8BNEXP"
      },
      "execution_count": 547,
      "outputs": []
    },
    {
      "cell_type": "code",
      "source": [
        "y = all.pop('Attrition')\n",
        "X = all\n",
        "\n",
        "train_set,test_set,train_res,test_res = train_test_split(X,y,stratify=y,test_size=0.10, random_state=27 )"
      ],
      "metadata": {
        "id": "Y0OQwhGpJpK_"
      },
      "execution_count": 548,
      "outputs": []
    },
    {
      "cell_type": "markdown",
      "source": [
        "# Histogram discretization"
      ],
      "metadata": {
        "id": "szEsoV_gKgXu"
      }
    },
    {
      "cell_type": "code",
      "source": [
        "col = \"Age\"\n",
        "# remove NaN values\n",
        "train_col_no_nan = train_set[~np.isnan(train_set[col])][col]\n",
        "# bin the data into 40 equally spaced bins\n",
        "# hist is the count for each bin\n",
        "# bin_edge is the edge values of the bins\n",
        "hist, bin_edge = np.histogram(train_col_no_nan, 40)\n",
        "# plot the histogram\n",
        "plt.fill_between(bin_edge.repeat(2)[1:-1], hist.repeat(2), facecolor='steelblue')\n",
        "plt.show()"
      ],
      "metadata": {
        "colab": {
          "base_uri": "https://localhost:8080/",
          "height": 592
        },
        "id": "BnOZZAyYKP1L",
        "outputId": "c2314c89-839a-4fdc-a68f-759a9d62b14d"
      },
      "execution_count": 549,
      "outputs": [
        {
          "output_type": "display_data",
          "data": {
            "image/png": "[encoded data removed]",
            "text/plain": [
              "<Figure size 720x720 with 1 Axes>"
            ]
          },
          "metadata": {
            "needs_background": "light"
          }
        }
      ]
    },
    {
      "cell_type": "code",
      "source": [
        "col = \"MonthlyIncome\"\n",
        "# remove NaN values\n",
        "train_col_no_nan = train_set[~np.isnan(train_set[col])][col]\n",
        "# bin the data into 40 equally spaced bins\n",
        "# hist is the count for each bin\n",
        "# bin_edge is the edge values of the bins\n",
        "hist, bin_edge = np.histogram(train_col_no_nan, 40)\n",
        "# plot the histogram\n",
        "plt.fill_between(bin_edge.repeat(2)[1:-1], hist.repeat(2), facecolor='steelblue')\n",
        "plt.show()"
      ],
      "metadata": {
        "colab": {
          "base_uri": "https://localhost:8080/",
          "height": 592
        },
        "id": "upTH_CjpN8JT",
        "outputId": "8a60ad06-99b7-4a5c-e431-3e891398a855"
      },
      "execution_count": 550,
      "outputs": [
        {
          "output_type": "display_data",
          "data": {
            "image/png": "[encoded data removed]",
            "text/plain": [
              "<Figure size 720x720 with 1 Axes>"
            ]
          },
          "metadata": {
            "needs_background": "light"
          }
        }
      ]
    },
    {
      "cell_type": "code",
      "source": [
        "col = \"DistanceFromHome\"\n",
        "# remove NaN values\n",
        "train_col_no_nan = train_set[~np.isnan(train_set[col])][col]\n",
        "# bin the data into 40 equally spaced bins\n",
        "# hist is the count for each bin\n",
        "# bin_edge is the edge values of the bins\n",
        "hist, bin_edge = np.histogram(train_col_no_nan, 40)\n",
        "# plot the histogram\n",
        "plt.fill_between(bin_edge.repeat(2)[1:-1], hist.repeat(2), facecolor='steelblue')\n",
        "plt.show()"
      ],
      "metadata": {
        "colab": {
          "base_uri": "https://localhost:8080/",
          "height": 592
        },
        "id": "PxAfKZCTN_ll",
        "outputId": "9c3f5fa3-ee3b-4aee-fe1f-9a234bb9bb9b"
      },
      "execution_count": 551,
      "outputs": [
        {
          "output_type": "display_data",
          "data": {
            "image/png": "[encoded data removed]",
            "text/plain": [
              "<Figure size 720x720 with 1 Axes>"
            ]
          },
          "metadata": {
            "needs_background": "light"
          }
        }
      ]
    },
    {
      "cell_type": "markdown",
      "source": [
        "\n",
        "## **T4.** Observe the histogram for Age, MonthlyIncome and DistanceFromHome. How many bins have zero counts? Do you think this is a good discretization? Why?"
      ],
      "metadata": {
        "id": "D_MRhZSGOH4z"
      }
    },
    {
      "cell_type": "markdown",
      "source": [
        "Age: 0 bin <br/>\n",
        "MonthlyIncome: 0 bin <br/>\n",
        "DistanceFromHome: 11 bins <br/>\n",
        "I think this is good discretization because the data is could spread on all bins on Age and MonthlyIncome. <br/>\n",
        "And although DistanceFromHome got many zero count bin but the zero count bin gap between each is balance so I think it still a good discretization\n"
      ],
      "metadata": {
        "id": "CyaQzoOkOK0W"
      }
    },
    {
      "cell_type": "markdown",
      "source": [
        "## **T5.** Can we use a Gaussian to estimate this histogram? Why? What about a Gaussian Mixture Model (GMM)?"
      ],
      "metadata": {
        "id": "xkIIdQsYPghq"
      }
    },
    {
      "cell_type": "markdown",
      "source": [
        "Yes, because of Central limit theorem said that<br/>\n",
        " \"when independent random variables are added, their sum tends toward a normal distribution even if original variables themselves are **not** normally distributed For 30 sizes or more datas\" <br/>\n",
        " so this way we could said that all histogram could estimate by Gaussian and also GMM could estimate our estimate this histogram."
      ],
      "metadata": {
        "id": "pntnga4zQDkR"
      }
    },
    {
      "cell_type": "code",
      "source": [
        "def bin_and_count(data, scol, no_bin=10, train_set=train_set):\n",
        "  train_col_no_nan = train_set[~np.isnan(train_set[scol])][scol]\n",
        "  hist, bin_edge = np.histogram(train_col_no_nan, no_bin)\n",
        "  bin_edge[0] = -np.inf\n",
        "  bin_edge[bin_edge.shape[0] - 1] = np.inf\n",
        "\n",
        "  data_col_no_nan = data[~np.isnan(data[scol])][scol]\n",
        "  discretize = np.digitize(data_col_no_nan, bin_edge)\n",
        "  return discretize, bin_edge, np.bincount(discretize - 1)"
      ],
      "metadata": {
        "id": "UhH1zAuji1oB"
      },
      "execution_count": 552,
      "outputs": []
    },
    {
      "cell_type": "markdown",
      "source": [
        "## **T6.** Now plot the histogram according to the method described above (with 10, 40, and 100 bins) and show 3 plots for Age, MonthlyIncome, and Distance- FromHome. Which bin size is most sensible for each features? Why?"
      ],
      "metadata": {
        "id": "8yTZPTijurFD"
      }
    },
    {
      "cell_type": "code",
      "source": [
        "scol = \"Age\"\n",
        "discretize, bin_edge, count = bin_and_count(train_set, scol, 10)\n",
        "plt.fill_between(bin_edge.repeat(2)[1:-1], count.repeat(2), facecolor='steelblue')\n",
        "plt.show()\n",
        "\n",
        "discretize, bin_edge, count = bin_and_count(train_set, scol, 40)\n",
        "plt.fill_between(bin_edge.repeat(2)[1:-1], count.repeat(2), facecolor='steelblue')\n",
        "plt.show()\n",
        "\n",
        "discretize, bin_edge, count = bin_and_count(train_set, scol, 100)\n",
        "plt.fill_between(bin_edge.repeat(2)[1:-1], count.repeat(2), facecolor='steelblue')\n",
        "plt.show()"
      ],
      "metadata": {
        "colab": {
          "base_uri": "https://localhost:8080/",
          "height": 1000
        },
        "id": "ynigPKHUmXhj",
        "outputId": "b7753cd5-7687-4192-d073-d8fa645d1788"
      },
      "execution_count": 553,
      "outputs": [
        {
          "output_type": "display_data",
          "data": {
            "image/png": "[encoded data removed]",
            "text/plain": [
              "<Figure size 720x720 with 1 Axes>"
            ]
          },
          "metadata": {
            "needs_background": "light"
          }
        },
        {
          "output_type": "display_data",
          "data": {
            "image/png": "[encoded data removed]",
            "text/plain": [
              "<Figure size 720x720 with 1 Axes>"
            ]
          },
          "metadata": {
            "needs_background": "light"
          }
        },
        {
          "output_type": "display_data",
          "data": {
            "image/png": "[encoded data removed]",
            "text/plain": [
              "<Figure size 720x720 with 1 Axes>"
            ]
          },
          "metadata": {
            "needs_background": "light"
          }
        }
      ]
    },
    {
      "cell_type": "markdown",
      "source": [
        "For Age I would go for 40 since it enough to seperate the data to each bin and the distribution between 40 and 100 sizes isn't much different, also there are no zero count bin."
      ],
      "metadata": {
        "id": "_Meh33e1u3r6"
      }
    },
    {
      "cell_type": "code",
      "source": [
        "scol = \"MonthlyIncome\"\n",
        "discretize, bin_edge, count = bin_and_count(train_set, scol, 10)\n",
        "plt.fill_between(bin_edge.repeat(2)[1:-1], count.repeat(2), facecolor='steelblue')\n",
        "plt.show()\n",
        "\n",
        "discretize, bin_edge, count = bin_and_count(train_set, scol, 40)\n",
        "plt.fill_between(bin_edge.repeat(2)[1:-1], count.repeat(2), facecolor='steelblue')\n",
        "plt.show()\n",
        "\n",
        "discretize, bin_edge, count = bin_and_count(train_set, scol, 100)\n",
        "plt.fill_between(bin_edge.repeat(2)[1:-1], count.repeat(2), facecolor='steelblue')\n",
        "plt.show()"
      ],
      "metadata": {
        "colab": {
          "base_uri": "https://localhost:8080/",
          "height": 1000
        },
        "id": "l6KmqEtCoL4R",
        "outputId": "f7a0209a-5034-4bee-b8ae-88442150994a"
      },
      "execution_count": 554,
      "outputs": [
        {
          "output_type": "display_data",
          "data": {
            "image/png": "[encoded data removed]",
            "text/plain": [
              "<Figure size 720x720 with 1 Axes>"
            ]
          },
          "metadata": {
            "needs_background": "light"
          }
        },
        {
          "output_type": "display_data",
          "data": {
            "image/png": "[encoded data removed]",
            "text/plain": [
              "<Figure size 720x720 with 1 Axes>"
            ]
          },
          "metadata": {
            "needs_background": "light"
          }
        },
        {
          "output_type": "display_data",
          "data": {
            "image/png": "[encoded data removed]",
            "text/plain": [
              "<Figure size 720x720 with 1 Axes>"
            ]
          },
          "metadata": {
            "needs_background": "light"
          }
        }
      ]
    },
    {
      "cell_type": "markdown",
      "source": [
        "For MonthlyIncome I would go for 100 since it could still distribute the data to all bins."
      ],
      "metadata": {
        "id": "b7qt9KCavbLQ"
      }
    },
    {
      "cell_type": "code",
      "source": [
        "scol = \"DistanceFromHome\"\n",
        "discretize, bin_edge, count = bin_and_count(train_set, scol, 10)\n",
        "plt.fill_between(bin_edge.repeat(2)[1:-1], count.repeat(2), facecolor='steelblue')\n",
        "plt.show()\n",
        "\n",
        "discretize, bin_edge, count = bin_and_count(train_set, scol, 40)\n",
        "plt.fill_between(bin_edge.repeat(2)[1:-1], count.repeat(2), facecolor='steelblue')\n",
        "plt.show()\n",
        "\n",
        "discretize, bin_edge, count = bin_and_count(train_set, scol, 100)\n",
        "plt.fill_between(bin_edge.repeat(2)[1:-1], count.repeat(2), facecolor='steelblue')\n",
        "plt.show()"
      ],
      "metadata": {
        "colab": {
          "base_uri": "https://localhost:8080/",
          "height": 1000
        },
        "id": "YrjLD3Y7sOE2",
        "outputId": "e6dd7a5b-20fa-4a2a-cfa9-dfc6d9974cee"
      },
      "execution_count": 555,
      "outputs": [
        {
          "output_type": "display_data",
          "data": {
            "image/png": "[encoded data removed]",
            "text/plain": [
              "<Figure size 720x720 with 1 Axes>"
            ]
          },
          "metadata": {
            "needs_background": "light"
          }
        },
        {
          "output_type": "display_data",
          "data": {
            "image/png": "[encoded data removed]",
            "text/plain": [
              "<Figure size 720x720 with 1 Axes>"
            ]
          },
          "metadata": {
            "needs_background": "light"
          }
        },
        {
          "output_type": "display_data",
          "data": {
            "image/png": "[encoded data removed]",
            "text/plain": [
              "<Figure size 720x720 with 1 Axes>"
            ]
          },
          "metadata": {
            "needs_background": "light"
          }
        }
      ]
    },
    {
      "cell_type": "markdown",
      "source": [
        "For DistanceFromHome I would go for 10 bin counts because although 40 got a small zero bins but zero are still bad for the models since it could not handle for test data that goes into zero counts bin"
      ],
      "metadata": {
        "id": "EI_Zyjnjvqax"
      }
    },
    {
      "cell_type": "markdown",
      "source": [
        "## **T7.** For the rest of the features, which one should be discretized? What are the criteria for choosing whether we should discretize a feature or not? Answer this and discretize those features into 10 bins each. In other words, figure out the bin edge for each feature, then use digitize() to convert the features to discrete values."
      ],
      "metadata": {
        "id": "50XoQcdwwnhx"
      }
    },
    {
      "cell_type": "code",
      "source": [
        "to_discretized = []\n",
        "for col in all.columns:\n",
        "  no_unique = all[col].unique().shape[0]\n",
        "  if(no_unique > 10):\n",
        "    to_discretized.append(col)\n",
        "to_discretized"
      ],
      "metadata": {
        "colab": {
          "base_uri": "https://localhost:8080/"
        },
        "id": "hq3BKZLLw2hg",
        "outputId": "33ced39e-7e8c-4641-cb8e-9c507ea5476f"
      },
      "execution_count": 556,
      "outputs": [
        {
          "output_type": "execute_result",
          "data": {
            "text/plain": [
              "['Age',\n",
              " 'DailyRate',\n",
              " 'DistanceFromHome',\n",
              " 'HourlyRate',\n",
              " 'MonthlyIncome',\n",
              " 'MonthlyRate',\n",
              " 'NumCompaniesWorked',\n",
              " 'PercentSalaryHike',\n",
              " 'TotalWorkingYears',\n",
              " 'YearsAtCompany',\n",
              " 'YearsInCurrentRole',\n",
              " 'YearsSinceLastPromotion',\n",
              " 'YearsWithCurrManager']"
            ]
          },
          "metadata": {},
          "execution_count": 556
        }
      ]
    },
    {
      "cell_type": "code",
      "source": [
        "bin_size_mapper = {\"Age\":40, \"MonthlyIncome\":100, \"DistanceFromHome\": 10}"
      ],
      "metadata": {
        "id": "20rpRWCEZJYM"
      },
      "execution_count": 557,
      "outputs": []
    },
    {
      "cell_type": "markdown",
      "source": [
        "We gonna split data in to 10 bins so my criteria is if unique of that data is less than 10, there are no point to split it."
      ],
      "metadata": {
        "id": "BcwZ0ycDx0i6"
      }
    },
    {
      "cell_type": "code",
      "source": [
        "def discretized(data, bin_size=10, bin_size_mapper={}):\n",
        "  to_discretized = []\n",
        "  for col in all.columns:\n",
        "    no_unique = all[col].unique().shape[0]\n",
        "    if(no_unique > 2 * bin_size):\n",
        "      to_discretized.append(col)\n",
        "\n",
        "  data_dc = data.copy()\n",
        "  for col in to_discretized:\n",
        "    if col in bin_size_mapper:\n",
        "      discretize, bin_edge, count = bin_and_count(data, col, bin_size_mapper[col])\n",
        "    else:\n",
        "      discretize, bin_edge, count = bin_and_count(data, col, bin_size)\n",
        "    data_dc.loc[~np.isnan(data[col]),col] = discretize\n",
        "  return data_dc"
      ],
      "metadata": {
        "id": "JdB59nTSxkTj"
      },
      "execution_count": 558,
      "outputs": []
    },
    {
      "cell_type": "code",
      "source": [
        "train_set_dc = discretized(train_set, bin_size_mapper=bin_size_mapper)\n",
        "train_set_dc"
      ],
      "metadata": {
        "colab": {
          "base_uri": "https://localhost:8080/",
          "height": 488
        },
        "id": "rklRdxIjr_UT",
        "outputId": "836e7c0b-9616-448c-eab4-c3d46c49b2d7"
      },
      "execution_count": 559,
      "outputs": [
        {
          "output_type": "execute_result",
          "data": {
            "text/html": [
              "\n",
              "  <div id=\"df-7f8db354-1ada-4685-b129-0ebbc2cbfaa0\">\n",
              "    <div class=\"colab-df-container\">\n",
              "      <div>\n",
              "<style scoped>\n",
              "    .dataframe tbody tr th:only-of-type {\n",
              "        vertical-align: middle;\n",
              "    }\n",
              "\n",
              "    .dataframe tbody tr th {\n",
              "        vertical-align: top;\n",
              "    }\n",
              "\n",
              "    .dataframe thead th {\n",
              "        text-align: right;\n",
              "    }\n",
              "</style>\n",
              "<table border=\"1\" class=\"dataframe\">\n",
              "  <thead>\n",
              "    <tr style=\"text-align: right;\">\n",
              "      <th></th>\n",
              "      <th>Age</th>\n",
              "      <th>BusinessTravel</th>\n",
              "      <th>DailyRate</th>\n",
              "      <th>Department</th>\n",
              "      <th>DistanceFromHome</th>\n",
              "      <th>Education</th>\n",
              "      <th>EducationField</th>\n",
              "      <th>EmployeeCount</th>\n",
              "      <th>EnvironmentSatisfaction</th>\n",
              "      <th>Gender</th>\n",
              "      <th>HourlyRate</th>\n",
              "      <th>JobInvolvement</th>\n",
              "      <th>JobLevel</th>\n",
              "      <th>JobRole</th>\n",
              "      <th>JobSatisfaction</th>\n",
              "      <th>MaritalStatus</th>\n",
              "      <th>MonthlyIncome</th>\n",
              "      <th>MonthlyRate</th>\n",
              "      <th>NumCompaniesWorked</th>\n",
              "      <th>Over18</th>\n",
              "      <th>OverTime</th>\n",
              "      <th>PercentSalaryHike</th>\n",
              "      <th>PerformanceRating</th>\n",
              "      <th>RelationshipSatisfaction</th>\n",
              "      <th>StandardHours</th>\n",
              "      <th>StockOptionLevel</th>\n",
              "      <th>TotalWorkingYears</th>\n",
              "      <th>TrainingTimesLastYear</th>\n",
              "      <th>WorkLifeBalance</th>\n",
              "      <th>YearsAtCompany</th>\n",
              "      <th>YearsInCurrentRole</th>\n",
              "      <th>YearsSinceLastPromotion</th>\n",
              "      <th>YearsWithCurrManager</th>\n",
              "    </tr>\n",
              "  </thead>\n",
              "  <tbody>\n",
              "    <tr>\n",
              "      <th>1316</th>\n",
              "      <td>NaN</td>\n",
              "      <td>-1</td>\n",
              "      <td>NaN</td>\n",
              "      <td>-1</td>\n",
              "      <td>1.0</td>\n",
              "      <td>4.0</td>\n",
              "      <td>-1</td>\n",
              "      <td>1.0</td>\n",
              "      <td>1.0</td>\n",
              "      <td>-1</td>\n",
              "      <td>9.0</td>\n",
              "      <td>3.0</td>\n",
              "      <td>2.0</td>\n",
              "      <td>7</td>\n",
              "      <td>4.0</td>\n",
              "      <td>-1</td>\n",
              "      <td>25.0</td>\n",
              "      <td>7.0</td>\n",
              "      <td>1.0</td>\n",
              "      <td>0</td>\n",
              "      <td>0</td>\n",
              "      <td>20.0</td>\n",
              "      <td>4.0</td>\n",
              "      <td>3.0</td>\n",
              "      <td>80.0</td>\n",
              "      <td>1.0</td>\n",
              "      <td>2.0</td>\n",
              "      <td>NaN</td>\n",
              "      <td>3.0</td>\n",
              "      <td>2.0</td>\n",
              "      <td>7.0</td>\n",
              "      <td>NaN</td>\n",
              "      <td>7.0</td>\n",
              "    </tr>\n",
              "    <tr>\n",
              "      <th>1190</th>\n",
              "      <td>14.0</td>\n",
              "      <td>2</td>\n",
              "      <td>7.0</td>\n",
              "      <td>1</td>\n",
              "      <td>NaN</td>\n",
              "      <td>3.0</td>\n",
              "      <td>3</td>\n",
              "      <td>1.0</td>\n",
              "      <td>4.0</td>\n",
              "      <td>1</td>\n",
              "      <td>3.0</td>\n",
              "      <td>3.0</td>\n",
              "      <td>NaN</td>\n",
              "      <td>6</td>\n",
              "      <td>2.0</td>\n",
              "      <td>0</td>\n",
              "      <td>NaN</td>\n",
              "      <td>10.0</td>\n",
              "      <td>NaN</td>\n",
              "      <td>0</td>\n",
              "      <td>0</td>\n",
              "      <td>13.0</td>\n",
              "      <td>3.0</td>\n",
              "      <td>3.0</td>\n",
              "      <td>NaN</td>\n",
              "      <td>2.0</td>\n",
              "      <td>NaN</td>\n",
              "      <td>NaN</td>\n",
              "      <td>2.0</td>\n",
              "      <td>3.0</td>\n",
              "      <td>5.0</td>\n",
              "      <td>1.0</td>\n",
              "      <td>6.0</td>\n",
              "    </tr>\n",
              "    <tr>\n",
              "      <th>861</th>\n",
              "      <td>27.0</td>\n",
              "      <td>2</td>\n",
              "      <td>10.0</td>\n",
              "      <td>2</td>\n",
              "      <td>NaN</td>\n",
              "      <td>3.0</td>\n",
              "      <td>2</td>\n",
              "      <td>1.0</td>\n",
              "      <td>3.0</td>\n",
              "      <td>0</td>\n",
              "      <td>6.0</td>\n",
              "      <td>3.0</td>\n",
              "      <td>4.0</td>\n",
              "      <td>3</td>\n",
              "      <td>1.0</td>\n",
              "      <td>1</td>\n",
              "      <td>86.0</td>\n",
              "      <td>9.0</td>\n",
              "      <td>8.0</td>\n",
              "      <td>-1</td>\n",
              "      <td>-1</td>\n",
              "      <td>23.0</td>\n",
              "      <td>4.0</td>\n",
              "      <td>1.0</td>\n",
              "      <td>80.0</td>\n",
              "      <td>0.0</td>\n",
              "      <td>8.0</td>\n",
              "      <td>2.0</td>\n",
              "      <td>3.0</td>\n",
              "      <td>8.0</td>\n",
              "      <td>NaN</td>\n",
              "      <td>15.0</td>\n",
              "      <td>9.0</td>\n",
              "    </tr>\n",
              "    <tr>\n",
              "      <th>397</th>\n",
              "      <td>7.0</td>\n",
              "      <td>2</td>\n",
              "      <td>6.0</td>\n",
              "      <td>2</td>\n",
              "      <td>2.0</td>\n",
              "      <td>2.0</td>\n",
              "      <td>1</td>\n",
              "      <td>1.0</td>\n",
              "      <td>NaN</td>\n",
              "      <td>-1</td>\n",
              "      <td>10.0</td>\n",
              "      <td>2.0</td>\n",
              "      <td>2.0</td>\n",
              "      <td>7</td>\n",
              "      <td>4.0</td>\n",
              "      <td>2</td>\n",
              "      <td>19.0</td>\n",
              "      <td>5.0</td>\n",
              "      <td>1.0</td>\n",
              "      <td>0</td>\n",
              "      <td>1</td>\n",
              "      <td>11.0</td>\n",
              "      <td>3.0</td>\n",
              "      <td>NaN</td>\n",
              "      <td>NaN</td>\n",
              "      <td>0.0</td>\n",
              "      <td>NaN</td>\n",
              "      <td>NaN</td>\n",
              "      <td>NaN</td>\n",
              "      <td>2.0</td>\n",
              "      <td>4.0</td>\n",
              "      <td>1.0</td>\n",
              "      <td>3.0</td>\n",
              "    </tr>\n",
              "    <tr>\n",
              "      <th>883</th>\n",
              "      <td>15.0</td>\n",
              "      <td>2</td>\n",
              "      <td>1.0</td>\n",
              "      <td>-1</td>\n",
              "      <td>NaN</td>\n",
              "      <td>3.0</td>\n",
              "      <td>-1</td>\n",
              "      <td>1.0</td>\n",
              "      <td>1.0</td>\n",
              "      <td>-1</td>\n",
              "      <td>5.0</td>\n",
              "      <td>3.0</td>\n",
              "      <td>1.0</td>\n",
              "      <td>6</td>\n",
              "      <td>4.0</td>\n",
              "      <td>-1</td>\n",
              "      <td>10.0</td>\n",
              "      <td>2.0</td>\n",
              "      <td>0.0</td>\n",
              "      <td>0</td>\n",
              "      <td>0</td>\n",
              "      <td>13.0</td>\n",
              "      <td>3.0</td>\n",
              "      <td>2.0</td>\n",
              "      <td>80.0</td>\n",
              "      <td>1.0</td>\n",
              "      <td>NaN</td>\n",
              "      <td>5.0</td>\n",
              "      <td>NaN</td>\n",
              "      <td>4.0</td>\n",
              "      <td>10.0</td>\n",
              "      <td>4.0</td>\n",
              "      <td>10.0</td>\n",
              "    </tr>\n",
              "    <tr>\n",
              "      <th>...</th>\n",
              "      <td>...</td>\n",
              "      <td>...</td>\n",
              "      <td>...</td>\n",
              "      <td>...</td>\n",
              "      <td>...</td>\n",
              "      <td>...</td>\n",
              "      <td>...</td>\n",
              "      <td>...</td>\n",
              "      <td>...</td>\n",
              "      <td>...</td>\n",
              "      <td>...</td>\n",
              "      <td>...</td>\n",
              "      <td>...</td>\n",
              "      <td>...</td>\n",
              "      <td>...</td>\n",
              "      <td>...</td>\n",
              "      <td>...</td>\n",
              "      <td>...</td>\n",
              "      <td>...</td>\n",
              "      <td>...</td>\n",
              "      <td>...</td>\n",
              "      <td>...</td>\n",
              "      <td>...</td>\n",
              "      <td>...</td>\n",
              "      <td>...</td>\n",
              "      <td>...</td>\n",
              "      <td>...</td>\n",
              "      <td>...</td>\n",
              "      <td>...</td>\n",
              "      <td>...</td>\n",
              "      <td>...</td>\n",
              "      <td>...</td>\n",
              "      <td>...</td>\n",
              "    </tr>\n",
              "    <tr>\n",
              "      <th>1370</th>\n",
              "      <td>28.0</td>\n",
              "      <td>0</td>\n",
              "      <td>8.0</td>\n",
              "      <td>1</td>\n",
              "      <td>5.0</td>\n",
              "      <td>NaN</td>\n",
              "      <td>5</td>\n",
              "      <td>1.0</td>\n",
              "      <td>NaN</td>\n",
              "      <td>1</td>\n",
              "      <td>5.0</td>\n",
              "      <td>NaN</td>\n",
              "      <td>NaN</td>\n",
              "      <td>6</td>\n",
              "      <td>2.0</td>\n",
              "      <td>-1</td>\n",
              "      <td>24.0</td>\n",
              "      <td>1.0</td>\n",
              "      <td>8.0</td>\n",
              "      <td>0</td>\n",
              "      <td>0</td>\n",
              "      <td>18.0</td>\n",
              "      <td>3.0</td>\n",
              "      <td>3.0</td>\n",
              "      <td>NaN</td>\n",
              "      <td>1.0</td>\n",
              "      <td>5.0</td>\n",
              "      <td>NaN</td>\n",
              "      <td>4.0</td>\n",
              "      <td>NaN</td>\n",
              "      <td>7.0</td>\n",
              "      <td>1.0</td>\n",
              "      <td>7.0</td>\n",
              "    </tr>\n",
              "    <tr>\n",
              "      <th>352</th>\n",
              "      <td>29.0</td>\n",
              "      <td>2</td>\n",
              "      <td>NaN</td>\n",
              "      <td>-1</td>\n",
              "      <td>10.0</td>\n",
              "      <td>NaN</td>\n",
              "      <td>-1</td>\n",
              "      <td>1.0</td>\n",
              "      <td>1.0</td>\n",
              "      <td>0</td>\n",
              "      <td>9.0</td>\n",
              "      <td>3.0</td>\n",
              "      <td>3.0</td>\n",
              "      <td>3</td>\n",
              "      <td>3.0</td>\n",
              "      <td>1</td>\n",
              "      <td>61.0</td>\n",
              "      <td>9.0</td>\n",
              "      <td>3.0</td>\n",
              "      <td>0</td>\n",
              "      <td>0</td>\n",
              "      <td>21.0</td>\n",
              "      <td>4.0</td>\n",
              "      <td>2.0</td>\n",
              "      <td>80.0</td>\n",
              "      <td>1.0</td>\n",
              "      <td>4.0</td>\n",
              "      <td>3.0</td>\n",
              "      <td>NaN</td>\n",
              "      <td>1.0</td>\n",
              "      <td>0.0</td>\n",
              "      <td>0.0</td>\n",
              "      <td>0.0</td>\n",
              "    </tr>\n",
              "    <tr>\n",
              "      <th>900</th>\n",
              "      <td>18.0</td>\n",
              "      <td>-1</td>\n",
              "      <td>3.0</td>\n",
              "      <td>1</td>\n",
              "      <td>NaN</td>\n",
              "      <td>3.0</td>\n",
              "      <td>5</td>\n",
              "      <td>1.0</td>\n",
              "      <td>3.0</td>\n",
              "      <td>1</td>\n",
              "      <td>NaN</td>\n",
              "      <td>NaN</td>\n",
              "      <td>1.0</td>\n",
              "      <td>6</td>\n",
              "      <td>2.0</td>\n",
              "      <td>1</td>\n",
              "      <td>15.0</td>\n",
              "      <td>3.0</td>\n",
              "      <td>1.0</td>\n",
              "      <td>0</td>\n",
              "      <td>0</td>\n",
              "      <td>NaN</td>\n",
              "      <td>3.0</td>\n",
              "      <td>NaN</td>\n",
              "      <td>80.0</td>\n",
              "      <td>0.0</td>\n",
              "      <td>NaN</td>\n",
              "      <td>2.0</td>\n",
              "      <td>2.0</td>\n",
              "      <td>3.0</td>\n",
              "      <td>10.0</td>\n",
              "      <td>NaN</td>\n",
              "      <td>NaN</td>\n",
              "    </tr>\n",
              "    <tr>\n",
              "      <th>1285</th>\n",
              "      <td>27.0</td>\n",
              "      <td>0</td>\n",
              "      <td>6.0</td>\n",
              "      <td>2</td>\n",
              "      <td>9.0</td>\n",
              "      <td>2.0</td>\n",
              "      <td>1</td>\n",
              "      <td>1.0</td>\n",
              "      <td>2.0</td>\n",
              "      <td>1</td>\n",
              "      <td>NaN</td>\n",
              "      <td>2.0</td>\n",
              "      <td>NaN</td>\n",
              "      <td>7</td>\n",
              "      <td>2.0</td>\n",
              "      <td>2</td>\n",
              "      <td>38.0</td>\n",
              "      <td>10.0</td>\n",
              "      <td>8.0</td>\n",
              "      <td>0</td>\n",
              "      <td>0</td>\n",
              "      <td>15.0</td>\n",
              "      <td>NaN</td>\n",
              "      <td>3.0</td>\n",
              "      <td>80.0</td>\n",
              "      <td>0.0</td>\n",
              "      <td>2.0</td>\n",
              "      <td>3.0</td>\n",
              "      <td>3.0</td>\n",
              "      <td>1.0</td>\n",
              "      <td>2.0</td>\n",
              "      <td>2.0</td>\n",
              "      <td>2.0</td>\n",
              "    </tr>\n",
              "    <tr>\n",
              "      <th>157</th>\n",
              "      <td>NaN</td>\n",
              "      <td>2</td>\n",
              "      <td>NaN</td>\n",
              "      <td>1</td>\n",
              "      <td>3.0</td>\n",
              "      <td>3.0</td>\n",
              "      <td>3</td>\n",
              "      <td>NaN</td>\n",
              "      <td>2.0</td>\n",
              "      <td>0</td>\n",
              "      <td>7.0</td>\n",
              "      <td>2.0</td>\n",
              "      <td>1.0</td>\n",
              "      <td>6</td>\n",
              "      <td>NaN</td>\n",
              "      <td>1</td>\n",
              "      <td>13.0</td>\n",
              "      <td>NaN</td>\n",
              "      <td>4.0</td>\n",
              "      <td>0</td>\n",
              "      <td>1</td>\n",
              "      <td>20.0</td>\n",
              "      <td>4.0</td>\n",
              "      <td>NaN</td>\n",
              "      <td>80.0</td>\n",
              "      <td>1.0</td>\n",
              "      <td>3.0</td>\n",
              "      <td>3.0</td>\n",
              "      <td>2.0</td>\n",
              "      <td>1.0</td>\n",
              "      <td>0.0</td>\n",
              "      <td>0.0</td>\n",
              "      <td>NaN</td>\n",
              "    </tr>\n",
              "  </tbody>\n",
              "</table>\n",
              "<p>1323 rows × 33 columns</p>\n",
              "</div>\n",
              "      <button class=\"colab-df-convert\" onclick=\"convertToInteractive('df-7f8db354-1ada-4685-b129-0ebbc2cbfaa0')\"\n",
              "              title=\"Convert this dataframe to an interactive table.\"\n",
              "              style=\"display:none;\">\n",
              "        \n",
              "  <svg xmlns=\"http://www.w3.org/2000/svg\" height=\"24px\"viewBox=\"0 0 24 24\"\n",
              "       width=\"24px\">\n",
              "    <path d=\"M0 0h24v24H0V0z\" fill=\"none\"/>\n",
              "    <path d=\"M18.56 5.44l.94 2.06.94-2.06 2.06-.94-2.06-.94-.94-2.06-.94 2.06-2.06.94zm-11 1L8.5 8.5l.94-2.06 2.06-.94-2.06-.94L8.5 2.5l-.94 2.06-2.06.94zm10 10l.94 2.06.94-2.06 2.06-.94-2.06-.94-.94-2.06-.94 2.06-2.06.94z\"/><path d=\"M17.41 7.96l-1.37-1.37c-.4-.4-.92-.59-1.43-.59-.52 0-1.04.2-1.43.59L10.3 9.45l-7.72 7.72c-.78.78-.78 2.05 0 2.83L4 21.41c.39.39.9.59 1.41.59.51 0 1.02-.2 1.41-.59l7.78-7.78 2.81-2.81c.8-.78.8-2.07 0-2.86zM5.41 20L4 18.59l7.72-7.72 1.47 1.35L5.41 20z\"/>\n",
              "  </svg>\n",
              "      </button>\n",
              "      \n",
              "  <style>\n",
              "    .colab-df-container {\n",
              "      display:flex;\n",
              "      flex-wrap:wrap;\n",
              "      gap: 12px;\n",
              "    }\n",
              "\n",
              "    .colab-df-convert {\n",
              "      background-color: #E8F0FE;\n",
              "      border: none;\n",
              "      border-radius: 50%;\n",
              "      cursor: pointer;\n",
              "      display: none;\n",
              "      fill: #1967D2;\n",
              "      height: 32px;\n",
              "      padding: 0 0 0 0;\n",
              "      width: 32px;\n",
              "    }\n",
              "\n",
              "    .colab-df-convert:hover {\n",
              "      background-color: #E2EBFA;\n",
              "      box-shadow: 0px 1px 2px rgba(60, 64, 67, 0.3), 0px 1px 3px 1px rgba(60, 64, 67, 0.15);\n",
              "      fill: #174EA6;\n",
              "    }\n",
              "\n",
              "    [theme=dark] .colab-df-convert {\n",
              "      background-color: #3B4455;\n",
              "      fill: #D2E3FC;\n",
              "    }\n",
              "\n",
              "    [theme=dark] .colab-df-convert:hover {\n",
              "      background-color: #434B5C;\n",
              "      box-shadow: 0px 1px 3px 1px rgba(0, 0, 0, 0.15);\n",
              "      filter: drop-shadow(0px 1px 2px rgba(0, 0, 0, 0.3));\n",
              "      fill: #FFFFFF;\n",
              "    }\n",
              "  </style>\n",
              "\n",
              "      <script>\n",
              "        const buttonEl =\n",
              "          document.querySelector('#df-7f8db354-1ada-4685-b129-0ebbc2cbfaa0 button.colab-df-convert');\n",
              "        buttonEl.style.display =\n",
              "          google.colab.kernel.accessAllowed ? 'block' : 'none';\n",
              "\n",
              "        async function convertToInteractive(key) {\n",
              "          const element = document.querySelector('#df-7f8db354-1ada-4685-b129-0ebbc2cbfaa0');\n",
              "          const dataTable =\n",
              "            await google.colab.kernel.invokeFunction('convertToInteractive',\n",
              "                                                     [key], {});\n",
              "          if (!dataTable) return;\n",
              "\n",
              "          const docLinkHtml = 'Like what you see? Visit the ' +\n",
              "            '<a target=\"_blank\" href=https://colab.research.google.com/notebooks/data_table.ipynb>data table notebook</a>'\n",
              "            + ' to learn more about interactive tables.';\n",
              "          element.innerHTML = '';\n",
              "          dataTable['output_type'] = 'display_data';\n",
              "          await google.colab.output.renderOutput(dataTable, element);\n",
              "          const docLink = document.createElement('div');\n",
              "          docLink.innerHTML = docLinkHtml;\n",
              "          element.appendChild(docLink);\n",
              "        }\n",
              "      </script>\n",
              "    </div>\n",
              "  </div>\n",
              "  "
            ],
            "text/plain": [
              "       Age  BusinessTravel  ...  YearsSinceLastPromotion  YearsWithCurrManager\n",
              "1316   NaN              -1  ...                      NaN                   7.0\n",
              "1190  14.0               2  ...                      1.0                   6.0\n",
              "861   27.0               2  ...                     15.0                   9.0\n",
              "397    7.0               2  ...                      1.0                   3.0\n",
              "883   15.0               2  ...                      4.0                  10.0\n",
              "...    ...             ...  ...                      ...                   ...\n",
              "1370  28.0               0  ...                      1.0                   7.0\n",
              "352   29.0               2  ...                      0.0                   0.0\n",
              "900   18.0              -1  ...                      NaN                   NaN\n",
              "1285  27.0               0  ...                      2.0                   2.0\n",
              "157    NaN               2  ...                      0.0                   NaN\n",
              "\n",
              "[1323 rows x 33 columns]"
            ]
          },
          "metadata": {},
          "execution_count": 559
        }
      ]
    },
    {
      "cell_type": "markdown",
      "source": [
        "# The MLE for the likelihood distribution of discretized histograms"
      ],
      "metadata": {
        "id": "ZkTBqDxx0603"
      }
    },
    {
      "cell_type": "markdown",
      "source": [
        "## T8. What kind of distribution should we use to model histograms? (Answer a distribution name) What is the MLE for the likelihood distribution? (Describe how to do the MLE). Plot the likelihood distributions of MonthlyIncome, JobRole, HourlyRate, and MaritalStatus for different Attrition values."
      ],
      "metadata": {
        "id": "GZLyOPQvJbRd"
      }
    },
    {
      "cell_type": "markdown",
      "source": [
        "normal distribution <br/>\n",
        "Find the MLE of each distribution in each x by just return p(w1|x) of class w1.This come from eq. **p(w0|x)* 0 + p(w1|x)* 1 = p(w1|x)**<br/>\n",
        "(let 0 is predict the Attrition as \"No\" and 1 is predict the Attrition as \"Yes\") <br/>\n",
        "p(x|w) (x is discretize value of each bins, for w there are 2 case, w1: Attrition = \"Yes\", w2: Attrition = \"No\") <br/>\n",
        "And then change it to MLE distribution p(w|x) by multiple by p(w) and divide by p(x) <br/>\n",
        "**p(w|x) = (p(x|w) * p(w))/p(x)**<br/>\n"
      ],
      "metadata": {
        "id": "QnJpFG7sJeBP"
      }
    },
    {
      "cell_type": "code",
      "source": [
        "def likelihood_distribution(train_set_dc, train_res, scol):\n",
        "  index = ~np.isnan(train_set_dc[scol])\n",
        "  dd = train_set_dc[index][[scol]]\n",
        "  dd[\"Attrition\"] = train_res[index]\n",
        "  w = dd.groupby(scol).size().reset_index(name=\"freq\").set_index(scol)\n",
        "  w[\"fw1\"] = dd[dd[\"Attrition\"] == 1].groupby(scol).size()\n",
        "  w[\"fw1\"] = w[\"fw1\"].fillna(0)\n",
        "  w[\"p(x|w1)\"] = np.nan_to_num(w[\"fw1\"]/w[\"fw1\"].sum(), 0)\n",
        "  \n",
        "  w[\"fw0\"] = dd[dd[\"Attrition\"] == 0].groupby(scol).size()\n",
        "  w[\"fw0\"] = w[\"fw0\"].fillna(0)\n",
        "  w[\"p(x|w0)\"] = np.nan_to_num(w[\"fw0\"]/w[\"fw0\"].sum(), 0)\n",
        "  \n",
        "  w[\"p(w1)\"] = w[\"fw1\"].sum()/w[\"freq\"].sum()\n",
        "  w[\"p(w0)\"] = w[\"fw0\"].sum()/w[\"freq\"].sum()\n",
        "\n",
        "  w[\"p(x)\"] = w[\"freq\"]/w[\"freq\"].sum()\n",
        "  w[\"p(w1|x)\"] = w[\"p(x|w1)\"]*w[\"p(w1)\"]/w[\"p(x)\"]\n",
        "  w[\"p(w0|x)\"] = w[\"p(x|w0)\"]*w[\"p(w0)\"]/w[\"p(x)\"]\n",
        "  w[\"sum\"] = w[\"p(w1|x)\"] + w[\"p(w0|x)\"]\n",
        "  w[\"p(w1|x)\"] = w[\"p(w1|x)\"]/w[\"sum\"]\n",
        "  w[\"p(w0|x)\"] = w[\"p(w0|x)\"]/w[\"sum\"]\n",
        "  w = w.reset_index()\n",
        "\n",
        "  return w"
      ],
      "metadata": {
        "id": "t7IVr34xJd1g"
      },
      "execution_count": 560,
      "outputs": []
    },
    {
      "cell_type": "code",
      "source": [
        "scol = \"MonthlyIncome\"\n",
        "w = likelihood_distribution(train_set_dc, train_res, scol)\n",
        "x = w[scol]\n",
        "\n",
        "pw1x = w[\"p(w1|x)\"]\n",
        "plt.plot(x, pw1x, label = \"w1\")\n",
        "\n",
        "pw0x = w[\"p(w0|x)\"]\n",
        "plt.plot(x, pw0x, label = \"w0\")\n",
        "\n",
        "plt.xlabel('x')\n",
        "plt.ylabel('p(wi|x)')\n",
        "plt.legend()\n",
        "plt.show()\n",
        "\n",
        "print(w)"
      ],
      "metadata": {
        "colab": {
          "base_uri": "https://localhost:8080/",
          "height": 849
        },
        "id": "ECPUWbmDtDYK",
        "outputId": "0174cbc7-d2a3-4a74-ab2e-7f196c0222a1"
      },
      "execution_count": 561,
      "outputs": [
        {
          "output_type": "display_data",
          "data": {
            "image/png": "[encoded data removed]",
            "text/plain": [
              "<Figure size 720x720 with 1 Axes>"
            ]
          },
          "metadata": {
            "needs_background": "light"
          }
        },
        {
          "output_type": "stream",
          "name": "stdout",
          "text": [
            "    MonthlyIncome  freq  fw1   p(x|w1)  ...      p(x)   p(w1|x)   p(w0|x)  sum\n",
            "0             1.0     6  5.0  0.029762  ...  0.005671  0.833333  0.166667  1.0\n",
            "1             2.0     7  2.0  0.011905  ...  0.006616  0.285714  0.714286  1.0\n",
            "2             3.0     7  4.0  0.023810  ...  0.006616  0.571429  0.428571  1.0\n",
            "3             4.0     3  1.0  0.005952  ...  0.002836  0.333333  0.666667  1.0\n",
            "4             5.0     4  3.0  0.017857  ...  0.003781  0.750000  0.250000  1.0\n",
            "..            ...   ...  ...       ...  ...       ...       ...       ...  ...\n",
            "91           96.0     7  0.0  0.000000  ...  0.006616  0.000000  1.000000  1.0\n",
            "92           97.0     9  1.0  0.005952  ...  0.008507  0.111111  0.888889  1.0\n",
            "93           98.0     6  0.0  0.000000  ...  0.005671  0.000000  1.000000  1.0\n",
            "94           99.0     6  1.0  0.005952  ...  0.005671  0.166667  0.833333  1.0\n",
            "95          100.0     5  1.0  0.005952  ...  0.004726  0.200000  0.800000  1.0\n",
            "\n",
            "[96 rows x 12 columns]\n"
          ]
        }
      ]
    },
    {
      "cell_type": "code",
      "source": [
        "scol = \"JobRole\"\n",
        "w = likelihood_distribution(train_set_dc, train_res, scol)\n",
        "x = w[scol]\n",
        "\n",
        "pw1x = w[\"p(w1|x)\"]\n",
        "plt.plot(x, pw1x, label = \"w1\")\n",
        "\n",
        "pw0x = w[\"p(w0|x)\"]\n",
        "plt.plot(x, pw0x, label = \"w0\")\n",
        "\n",
        "plt.xlabel('x')\n",
        "plt.ylabel('p(wi|x)')\n",
        "plt.legend()\n",
        "plt.show()\n",
        "\n",
        "print(w)"
      ],
      "metadata": {
        "colab": {
          "base_uri": "https://localhost:8080/",
          "height": 832
        },
        "id": "T7rm3KiYuIfM",
        "outputId": "d9de0b8c-f358-4661-e381-a78e814a28bd"
      },
      "execution_count": 562,
      "outputs": [
        {
          "output_type": "display_data",
          "data": {
            "image/png": "[encoded data removed]",
            "text/plain": [
              "<Figure size 720x720 with 1 Axes>"
            ]
          },
          "metadata": {
            "needs_background": "light"
          }
        },
        {
          "output_type": "stream",
          "name": "stdout",
          "text": [
            "   JobRole  freq  fw1   p(x|w1)  ...      p(x)   p(w1|x)   p(w0|x)  sum\n",
            "0       -1   265   39  0.183099  ...  0.200302  0.147170  0.852830  1.0\n",
            "1        0   101    7  0.032864  ...  0.076342  0.069307  0.930693  1.0\n",
            "2        1    37   10  0.046948  ...  0.027967  0.270270  0.729730  1.0\n",
            "3        2   184   51  0.239437  ...  0.139078  0.277174  0.722826  1.0\n",
            "4        3    75    4  0.018779  ...  0.056689  0.053333  0.946667  1.0\n",
            "5        4   101    6  0.028169  ...  0.076342  0.059406  0.940594  1.0\n",
            "6        5    60    2  0.009390  ...  0.045351  0.033333  0.966667  1.0\n",
            "7        6   212   31  0.145540  ...  0.160242  0.146226  0.853774  1.0\n",
            "8        7   227   40  0.187793  ...  0.171580  0.176211  0.823789  1.0\n",
            "9        8    61   23  0.107981  ...  0.046107  0.377049  0.622951  1.0\n",
            "\n",
            "[10 rows x 12 columns]\n"
          ]
        }
      ]
    },
    {
      "cell_type": "code",
      "source": [
        "scol = \"HourlyRate\"\n",
        "w = likelihood_distribution(train_set_dc, train_res, scol)\n",
        "x = w[scol]\n",
        "\n",
        "pw1x = w[\"p(w1|x)\"]\n",
        "plt.plot(x, pw1x, label = \"w1\")\n",
        "\n",
        "pw0x = w[\"p(w0|x)\"]\n",
        "plt.plot(x, pw0x, label = \"w0\")\n",
        "\n",
        "plt.xlabel('x')\n",
        "plt.ylabel('p(wi|x)')\n",
        "plt.legend()\n",
        "plt.show()\n",
        "\n",
        "print(w)"
      ],
      "metadata": {
        "colab": {
          "base_uri": "https://localhost:8080/",
          "height": 832
        },
        "id": "JEI-vjf-uPKb",
        "outputId": "8ef4a086-fe3d-4c70-fd68-d0f9b80ef8eb"
      },
      "execution_count": 563,
      "outputs": [
        {
          "output_type": "display_data",
          "data": {
            "image/png": "[encoded data removed]",
            "text/plain": [
              "<Figure size 720x720 with 1 Axes>"
            ]
          },
          "metadata": {
            "needs_background": "light"
          }
        },
        {
          "output_type": "stream",
          "name": "stdout",
          "text": [
            "   HourlyRate  freq  fw1   p(x|w1)  ...      p(x)   p(w1|x)   p(w0|x)  sum\n",
            "0         1.0    89   17  0.100592  ...  0.084121  0.191011  0.808989  1.0\n",
            "1         2.0   101   14  0.082840  ...  0.095463  0.138614  0.861386  1.0\n",
            "2         3.0   100   19  0.112426  ...  0.094518  0.190000  0.810000  1.0\n",
            "3         4.0   112   20  0.118343  ...  0.105860  0.178571  0.821429  1.0\n",
            "4         5.0   108   16  0.094675  ...  0.102079  0.148148  0.851852  1.0\n",
            "5         6.0   101   20  0.118343  ...  0.095463  0.198020  0.801980  1.0\n",
            "6         7.0   106   14  0.082840  ...  0.100189  0.132075  0.867925  1.0\n",
            "7         8.0   108   15  0.088757  ...  0.102079  0.138889  0.861111  1.0\n",
            "8         9.0   106   14  0.082840  ...  0.100189  0.132075  0.867925  1.0\n",
            "9        10.0   127   20  0.118343  ...  0.120038  0.157480  0.842520  1.0\n",
            "\n",
            "[10 rows x 12 columns]\n"
          ]
        }
      ]
    },
    {
      "cell_type": "code",
      "source": [
        "scol = \"MaritalStatus\"\n",
        "w = likelihood_distribution(train_set_dc, train_res, scol)\n",
        "x = w[scol]\n",
        "\n",
        "pw1x = w[\"p(w1|x)\"]\n",
        "plt.plot(x, pw1x, label = \"w1\")\n",
        "\n",
        "pw0x = w[\"p(w0|x)\"]\n",
        "plt.plot(x, pw0x, label = \"w0\")\n",
        "\n",
        "plt.xlabel('x')\n",
        "plt.ylabel('p(wi|x)')\n",
        "plt.legend()\n",
        "plt.show()\n",
        "\n",
        "print(w)"
      ],
      "metadata": {
        "colab": {
          "base_uri": "https://localhost:8080/",
          "height": 728
        },
        "id": "O5dOyGXZuSdh",
        "outputId": "43559614-031a-49a4-c059-b6f53eb80a3b"
      },
      "execution_count": 564,
      "outputs": [
        {
          "output_type": "display_data",
          "data": {
            "image/png": "[encoded data removed]",
            "text/plain": [
              "<Figure size 720x720 with 1 Axes>"
            ]
          },
          "metadata": {
            "needs_background": "light"
          }
        },
        {
          "output_type": "stream",
          "name": "stdout",
          "text": [
            "   MaritalStatus  freq  fw1   p(x|w1)  ...      p(x)   p(w1|x)   p(w0|x)  sum\n",
            "0             -1   260   47  0.220657  ...  0.196523  0.180769  0.819231  1.0\n",
            "1              0   239   23  0.107981  ...  0.180650  0.096234  0.903766  1.0\n",
            "2              1   480   55  0.258216  ...  0.362812  0.114583  0.885417  1.0\n",
            "3              2   344   88  0.413146  ...  0.260015  0.255814  0.744186  1.0\n",
            "\n",
            "[4 rows x 12 columns]\n"
          ]
        }
      ]
    },
    {
      "cell_type": "markdown",
      "source": [
        "## T9. What is the prior distribution of the two classes?"
      ],
      "metadata": {
        "id": "bCoyUx7syQOg"
      }
    },
    {
      "cell_type": "markdown",
      "source": [
        "Prior distribution is the point that two graph cross over <br/>\n",
        "For **JobRole**, **HourlyRate**, and **MaritalStatus** the point are not prior distribution is not appear <br/>\n",
        "For **MonthlyIncome**, the point is at middle of bin that the graph across as print point below"
      ],
      "metadata": {
        "id": "iflpXqopyTNH"
      }
    },
    {
      "cell_type": "code",
      "source": [
        "scol = \"MonthlyIncome\"\n",
        "w = likelihood_distribution(train_set_dc, train_res, scol)\n",
        "x = w[scol]\n",
        "\n",
        "pw1x = w[\"p(w1|x)\"]\n",
        "plt.plot(x, pw1x, label = \"w1\")\n",
        "\n",
        "pw0x = w[\"p(w0|x)\"]\n",
        "plt.plot(x, pw0x, label = \"w0\")\n",
        "\n",
        "points_x = []\n",
        "points_y = []\n",
        "for i in range(w.shape[0] - 1):\n",
        "  l1x1 = x[i]\n",
        "  l1y1 = pw1x[i]\n",
        "  l1x2 = x[i + 1]\n",
        "  l1y2 = pw1x[i + 1]\n",
        "  m1 = (l1y1 - l1y2)/(l1x1 - l1x2)\n",
        "  c1 = l1y1 - m1*l1x1\n",
        "  \n",
        "  l0x1 = x[i]\n",
        "  l0y1 = pw0x[i]\n",
        "  l0x2 = x[i + 1]\n",
        "  l0y2 = pw0x[i + 1]\n",
        "  m2 = (l0y1 - l0y2)/(l0x1 - l0x2)\n",
        "  c2 = l0y1 - m2*l0x1\n",
        "\n",
        "  xx = (c2 - c1)/(m1 - m2 + 1e-3)\n",
        "  if(x[i] <= xx and xx <= x[i + 1]):\n",
        "    yy = m1*xx + c1\n",
        "    print(\"the point between class\", l1x1, \"and class\", l0x2, \"at x=\", xx, \"y=\", yy)\n",
        "    points_x.append(xx)\n",
        "    points_y.append(yy)\n",
        "\n",
        "plt.plot(points_x, points_y, 'go')\n",
        "plt.xlabel('x')\n",
        "plt.ylabel('p(wi|x)')\n",
        "plt.legend()\n",
        "plt.show()"
      ],
      "metadata": {
        "colab": {
          "base_uri": "https://localhost:8080/",
          "height": 762
        },
        "id": "ic-Lc2atxor4",
        "outputId": "1b9f2ea0-b07f-4d3e-fb31-5f0822af0ac0"
      },
      "execution_count": 565,
      "outputs": [
        {
          "output_type": "stream",
          "name": "stdout",
          "text": [
            "the point between class 1.0 and class 2.0 at x= 1.6101658035597717 y= 0.49919491709822017\n",
            "the point between class 2.0 and class 3.0 at x= 2.7451959071624654 y= 0.49862740204641864\n",
            "the point between class 3.0 and class 4.0 at x= 3.3069445836256137 y= 0.4983465277081872\n",
            "the point between class 4.0 and class 5.0 at x= 4.3947263284059135 y= 0.4978026368357973\n",
            "the point between class 5.0 and class 6.0 at x= 5.548881642926607 y= 0.49722555917853617\n",
            "the point between class 59.0 and class 60.0 at x= 59.940059940059946 y= 0.47002997002997304\n",
            "the point between class 60.0 and class 61.0 at x= 60.06006006006006 y= 0.46996996996997\n",
            "the point between class 63.0 and class 64.0 at x= 63.46826586706647 y= 0.4682658670664708\n",
            "the point between class 64.0 and class 65.0 at x= 64.53226613306653 y= 0.46773386693347163\n"
          ]
        },
        {
          "output_type": "display_data",
          "data": {
            "image/png": "[encoded data removed]",
            "text/plain": [
              "<Figure size 720x720 with 1 Axes>"
            ]
          },
          "metadata": {
            "needs_background": "light"
          }
        }
      ]
    },
    {
      "cell_type": "markdown",
      "source": [
        "# Naive Bayes classification"
      ],
      "metadata": {
        "id": "bCWlYx5p7veg"
      }
    },
    {
      "cell_type": "markdown",
      "source": [
        "## T10. If we use the current Naive Bayes with our current Maximum Likelihood Estimates, we will find that some P(xi|attrition) will be zero and will result in the entire product term to be zero. Propose a method to fix this problem."
      ],
      "metadata": {
        "id": "GDnXasoq8Hqr"
      }
    },
    {
      "cell_type": "markdown",
      "source": [
        "I'll add small value (1e-3) to P(xi|attrition) to make sure it is not 0 and the additional value are not affect much to my model."
      ],
      "metadata": {
        "id": "YN_8hNl9_2Gh"
      }
    },
    {
      "cell_type": "markdown",
      "source": [
        "## T11. Implement your Naive Bayes classifier. Use the learned distributions to classify the test set. Don’t forget to allow your classifier to handle missing values in the test set. Report the overall Accuracy. Then, report the Precision, Recall, and F score for detecting attrition. See Lecture 1 for the definitions of each metric."
      ],
      "metadata": {
        "id": "pPnbdNqhAMLx"
      }
    },
    {
      "cell_type": "code",
      "source": [
        "def naive_bayes_histogram(train_set_dc, train_res, test_set_dc, threshold=0):\n",
        "  log_p_w1 = np.log(train_res.value_counts()[1]/train_res.count())\n",
        "  log_p_w0 = np.log(train_res.value_counts()[0]/train_res.count())\n",
        "  log_Hx = np.repeat(log_p_w1 - log_p_w0, test_set_dc.shape[0])\n",
        "  for col in train_set_dc.columns:\n",
        "    w = likelihood_distribution(train_set_dc, train_res, col)\n",
        "    d = test_set_dc.loc[:,col]\n",
        "    mapper_w1 = pd.Series(w[\"p(x|w1)\"].values,index=w[col]).loc[:].to_dict()\n",
        "    mapper_w0 = pd.Series(w[\"p(x|w0)\"].values,index=w[col]).loc[:].to_dict()\n",
        "    mapper_w1[np.nan] = 1\n",
        "    mapper_w0[np.nan] = 1\n",
        "    log_pxw1 = np.log(d.map(mapper_w1).loc[:] + 1e-3)\n",
        "    log_pxw0 = np.log(d.map(mapper_w0).loc[:] + 1e-3)\n",
        "    subtraction = log_pxw1 - log_pxw0\n",
        "    log_Hx += subtraction\n",
        "  predict = log_Hx.copy()\n",
        "  class1 = log_Hx >= threshold\n",
        "  predict[class1] = 1\n",
        "  predict[~class1] = 0\n",
        "  return predict, log_Hx"
      ],
      "metadata": {
        "id": "uLXhxJp40MaA"
      },
      "execution_count": 566,
      "outputs": []
    },
    {
      "cell_type": "code",
      "source": [
        "test_set_dc = discretized(test_set, bin_size_mapper=bin_size_mapper)"
      ],
      "metadata": {
        "id": "hpDQDkWrNhz-"
      },
      "execution_count": 567,
      "outputs": []
    },
    {
      "cell_type": "code",
      "source": [
        "prediction_his, _ = naive_bayes_histogram(train_set_dc, train_res, test_set_dc)"
      ],
      "metadata": {
        "id": "28_YqXFmDYlk"
      },
      "execution_count": 568,
      "outputs": []
    },
    {
      "cell_type": "code",
      "source": [
        "def evaluation(prediction, actual, to_print):\n",
        "  pcompare = pd.DataFrame(([prediction[prediction == 1] == actual[prediction == 1]])[0])\n",
        "  tp = pcompare[pcompare == True].dropna().shape[0]\n",
        "  fp = pcompare[pcompare == False].dropna().shape[0]\n",
        "\n",
        "  ncompare = pd.DataFrame(([prediction[prediction == 0] == actual[prediction == 0]])[0])\n",
        "  tn = ncompare[ncompare == True].dropna().shape[0]\n",
        "  fn = ncompare[ncompare == False].dropna().shape[0]\n",
        "\n",
        "  acc = (tp + tn)/prediction.shape[0]\n",
        "  precision = 0\n",
        "  if tp + fp > 0:\n",
        "    precision = tp/(tp + fp)\n",
        "\n",
        "  recall = 0\n",
        "  if tp + fn > 0:\n",
        "    recall = tp/(tp + fn)\n",
        "\n",
        "  false_alarm = 0\n",
        "  if fp + tn > 0:\n",
        "    false_alarm = fp/(fp + tn)\n",
        "\n",
        "  f1 = 0\n",
        "  if precision + recall > 0:\n",
        "    f1 = 2*precision*recall/(precision + recall)\n",
        "\n",
        "  if to_print:\n",
        "    print('overall accurracy is', acc)\n",
        "    print('precision score is', precision)\n",
        "    print('recall score is', recall)\n",
        "    print('false alarm score is', false_alarm)\n",
        "    print('f1 score is', f1)\n",
        "    return\n",
        "  return acc, precision, recall,false_alarm ,f1"
      ],
      "metadata": {
        "id": "kJLhAkHMFyse"
      },
      "execution_count": 569,
      "outputs": []
    },
    {
      "cell_type": "code",
      "source": [
        "evaluation(prediction_his, test_res, True)"
      ],
      "metadata": {
        "colab": {
          "base_uri": "https://localhost:8080/"
        },
        "id": "xzWDHOVXQGTe",
        "outputId": "7e926a40-9546-4165-d7b9-3f53b65ad3e8"
      },
      "execution_count": 570,
      "outputs": [
        {
          "output_type": "stream",
          "name": "stdout",
          "text": [
            "overall accurracy is 0.8095238095238095\n",
            "precision score is 0.4166666666666667\n",
            "recall score is 0.4166666666666667\n",
            "false alarm score is 0.11382113821138211\n",
            "f1 score is 0.4166666666666667\n"
          ]
        }
      ]
    },
    {
      "cell_type": "markdown",
      "source": [
        "# Probability density function"
      ],
      "metadata": {
        "id": "0IblvZyCrswz"
      }
    },
    {
      "cell_type": "markdown",
      "source": [
        "\n",
        "## T12. Use the learned distributions to classify the test set. Report the results using the same metric as the previous question."
      ],
      "metadata": {
        "id": "uzNnadlxwMpw"
      }
    },
    {
      "cell_type": "code",
      "source": [
        "from scipy.stats import norm"
      ],
      "metadata": {
        "id": "PYCzmU5or8j-"
      },
      "execution_count": 571,
      "outputs": []
    },
    {
      "cell_type": "code",
      "source": [
        "def naive_bayes_gaussian(train_set, train_res, test_set, threshold):\n",
        "  log_p_w1 = np.log(train_res.value_counts()[1]/train_res.count())\n",
        "  log_p_w2 = np.log(train_res.value_counts()[0]/train_res.count())\n",
        "  log_Hx = np.repeat(log_p_w1 - log_p_w2, test_set_dc.shape[0])\n",
        "\n",
        "  for col in train_set.columns:\n",
        "    index = ~np.isnan(train_set[col])\n",
        "    train_col_no_nan_w1 = train_set[train_res == 1 & index][col]\n",
        "    mean,std = train_col_no_nan_w1.agg(['mean', 'std'])\n",
        "\n",
        "    if std == 0:\n",
        "      log_pxw1 = np.log(np.ones(test_set.shape[0]))\n",
        "    else:\n",
        "      log_pxw1 = np.log(norm(mean, std).pdf(test_set[col]))\n",
        "      \n",
        "    log_pxw1 = np.nan_to_num(log_pxw1, nan=1)\n",
        "    \n",
        "    train_col_no_nan_w2 = train_set[train_res == 0 & index][col]\n",
        "    mean,std = train_col_no_nan_w2.agg(['mean', 'std'])\n",
        "\n",
        "    if std == 0:\n",
        "      log_pxw2 = np.log(np.ones(test_set.shape[0]))\n",
        "    else:\n",
        "      log_pxw2 = np.log(norm(mean, std).pdf(test_set[col]))\n",
        "\n",
        "    log_pxw2 = np.nan_to_num(log_pxw2, nan=1)\n",
        "    subtraction = log_pxw1 - log_pxw2\n",
        "    log_Hx += subtraction\n",
        "  class1 = log_Hx > threshold\n",
        "  log_Hx[class1] = 1\n",
        "  log_Hx[~class1] = 0\n",
        "\n",
        "  return log_Hx"
      ],
      "metadata": {
        "id": "fSLiAbko2Nzr"
      },
      "execution_count": 572,
      "outputs": []
    },
    {
      "cell_type": "code",
      "source": [
        "prediction_gs = naive_bayes_gaussian(train_set, train_res, test_set, 0)\n",
        "prediction_gs"
      ],
      "metadata": {
        "colab": {
          "base_uri": "https://localhost:8080/"
        },
        "id": "1VdipXAe3nyU",
        "outputId": "d4906473-769d-46f6-ef09-161d9a6e60a9"
      },
      "execution_count": 573,
      "outputs": [
        {
          "output_type": "execute_result",
          "data": {
            "text/plain": [
              "array([1., 0., 1., 0., 0., 0., 1., 1., 0., 0., 0., 0., 0., 0., 0., 0., 0.,\n",
              "       0., 0., 0., 0., 0., 0., 0., 0., 0., 0., 0., 0., 0., 0., 1., 1., 0.,\n",
              "       0., 0., 0., 0., 1., 0., 1., 1., 0., 0., 0., 0., 0., 0., 0., 0., 0.,\n",
              "       1., 1., 1., 0., 0., 0., 0., 0., 1., 0., 0., 0., 0., 0., 1., 0., 0.,\n",
              "       0., 0., 1., 0., 1., 0., 0., 0., 0., 1., 0., 0., 0., 0., 0., 0., 0.,\n",
              "       0., 0., 0., 0., 1., 0., 0., 0., 0., 0., 1., 0., 0., 0., 0., 0., 0.,\n",
              "       1., 0., 0., 1., 0., 1., 0., 0., 0., 0., 0., 0., 1., 0., 0., 0., 1.,\n",
              "       0., 0., 0., 0., 0., 0., 0., 1., 0., 0., 1., 0., 1., 0., 0., 0., 0.,\n",
              "       0., 1., 0., 0., 0., 0., 1., 0., 0., 0., 0.])"
            ]
          },
          "metadata": {},
          "execution_count": 573
        }
      ]
    },
    {
      "cell_type": "code",
      "source": [
        "evaluation(prediction_gs, test_res, True)"
      ],
      "metadata": {
        "colab": {
          "base_uri": "https://localhost:8080/"
        },
        "id": "OIVl7TCFASfr",
        "outputId": "c2d6a947-d59a-425d-c8d5-afe29fc8bcd3"
      },
      "execution_count": 574,
      "outputs": [
        {
          "output_type": "stream",
          "name": "stdout",
          "text": [
            "overall accurracy is 0.7755102040816326\n",
            "precision score is 0.3448275862068966\n",
            "recall score is 0.4166666666666667\n",
            "false alarm score is 0.15447154471544716\n",
            "f1 score is 0.37735849056603776\n"
          ]
        }
      ]
    },
    {
      "cell_type": "markdown",
      "source": [
        "# Baseline comparison"
      ],
      "metadata": {
        "id": "FQ_2Lr47wQax"
      }
    },
    {
      "cell_type": "markdown",
      "source": [
        "## T13. The random choice baseline is the accuracy if you make a random guess for each test sample. Give random guess (50% leaving, and 50% staying) to the test samples. Report the overall Accuracy. Then, report the Precision, Recall, and F score for attrition prediction using the random choice baseline."
      ],
      "metadata": {
        "id": "_Teh1VIzwUKk"
      }
    },
    {
      "cell_type": "code",
      "source": [
        "random_seed = 27\n",
        "np.random.seed(random_seed)\n",
        "random_predict = np.random.randint(2, size=test_res.shape[0])\n",
        "evaluation(random_predict, test_res, True)"
      ],
      "metadata": {
        "colab": {
          "base_uri": "https://localhost:8080/"
        },
        "id": "Kg3dkEPBwWuY",
        "outputId": "0c7427e4-4d7c-4f40-96b8-9f81a4abe58b"
      },
      "execution_count": 575,
      "outputs": [
        {
          "output_type": "stream",
          "name": "stdout",
          "text": [
            "overall accurracy is 0.47619047619047616\n",
            "precision score is 0.16455696202531644\n",
            "recall score is 0.5416666666666666\n",
            "false alarm score is 0.5365853658536586\n",
            "f1 score is 0.2524271844660194\n"
          ]
        }
      ]
    },
    {
      "cell_type": "markdown",
      "source": [
        "## T14. The majority rule is the accuracy if you use the most frequent class from the training set as the classification decision. Report the overall Accuracy. Then, report the Precision, Recall, and F score for attrition prediction using the majority rule baseline."
      ],
      "metadata": {
        "id": "QtyIEfsvy-Jx"
      }
    },
    {
      "cell_type": "markdown",
      "source": [
        "My most frequent class is MonthlyIncome"
      ],
      "metadata": {
        "id": "y-a_l6_U4GKL"
      }
    },
    {
      "cell_type": "code",
      "source": [
        "col = \"MonthlyIncome\"\n",
        "log_p_w1 = np.log(train_res.value_counts()[1]/train_res.count())\n",
        "log_p_w0 = np.log(train_res.value_counts()[0]/train_res.count())\n",
        "log_Hx = log_p_w1 - log_p_w0\n",
        "\n",
        "w = likelihood_distribution(train_set_dc, train_res, col)\n",
        "d = test_set_dc.loc[:,col]\n",
        "mapper_w1 = pd.Series(w[\"p(x|w1)\"].values,index=w[col]).loc[:].to_dict()\n",
        "mapper_w0 = pd.Series(w[\"p(x|w0)\"].values,index=w[col]).loc[:].to_dict()\n",
        "mapper_w1[np.nan] = 1\n",
        "mapper_w0[np.nan] = 1\n",
        "log_pxw1 = np.log(d.map(mapper_w1).loc[:] + 1e-3)\n",
        "log_pxw0 = np.log(d.map(mapper_w0).loc[:] + 1e-3)\n",
        "subtraction = log_pxw1 - log_pxw0\n",
        "log_Hx += subtraction"
      ],
      "metadata": {
        "id": "3Q16OIRF5byU"
      },
      "execution_count": 576,
      "outputs": []
    },
    {
      "cell_type": "code",
      "source": [
        "income_predict = log_Hx.copy()\n",
        "class1 = log_Hx >= 0\n",
        "income_predict[class1] = 1\n",
        "income_predict[~class1] = 0\n",
        "income_predict.value_counts()\n",
        "evaluation(income_predict, test_res, True)"
      ],
      "metadata": {
        "colab": {
          "base_uri": "https://localhost:8080/"
        },
        "id": "0iGCnU6p3ZCt",
        "outputId": "3d6f8b7b-2e4c-4391-e820-cdc8dde7d4e5"
      },
      "execution_count": 577,
      "outputs": [
        {
          "output_type": "stream",
          "name": "stdout",
          "text": [
            "overall accurracy is 0.8299319727891157\n",
            "precision score is 0.0\n",
            "recall score is 0.0\n",
            "false alarm score is 0.008130081300813009\n",
            "f1 score is 0\n"
          ]
        }
      ]
    },
    {
      "cell_type": "markdown",
      "source": [
        "## T15. Compare the two baselines with your Naive Bayes classifier."
      ],
      "metadata": {
        "id": "e7rsOiMcnVqP"
      }
    },
    {
      "cell_type": "code",
      "source": [
        "pd.DataFrame({\"naive bayes\":evaluation(prediction_his, test_res, False),\n",
        "              \"random\":evaluation(random_predict, test_res, False),\n",
        "              \"max freq (MonthlyIncome)\":evaluation(income_predict, test_res, False)},\n",
        "              [\"accuracy\", \"precision\", \"recall\", \"false_alarm\" , \"f1\"])"
      ],
      "metadata": {
        "colab": {
          "base_uri": "https://localhost:8080/",
          "height": 206
        },
        "id": "P6994nrAnXX0",
        "outputId": "6bd76316-e155-4e03-b637-ca1d7cbd472d"
      },
      "execution_count": 578,
      "outputs": [
        {
          "output_type": "execute_result",
          "data": {
            "text/html": [
              "\n",
              "  <div id=\"df-5652a2ce-0323-4682-b564-d3c710346f8c\">\n",
              "    <div class=\"colab-df-container\">\n",
              "      <div>\n",
              "<style scoped>\n",
              "    .dataframe tbody tr th:only-of-type {\n",
              "        vertical-align: middle;\n",
              "    }\n",
              "\n",
              "    .dataframe tbody tr th {\n",
              "        vertical-align: top;\n",
              "    }\n",
              "\n",
              "    .dataframe thead th {\n",
              "        text-align: right;\n",
              "    }\n",
              "</style>\n",
              "<table border=\"1\" class=\"dataframe\">\n",
              "  <thead>\n",
              "    <tr style=\"text-align: right;\">\n",
              "      <th></th>\n",
              "      <th>naive bayes</th>\n",
              "      <th>random</th>\n",
              "      <th>max freq (MonthlyIncome)</th>\n",
              "    </tr>\n",
              "  </thead>\n",
              "  <tbody>\n",
              "    <tr>\n",
              "      <th>accuracy</th>\n",
              "      <td>0.809524</td>\n",
              "      <td>0.476190</td>\n",
              "      <td>0.829932</td>\n",
              "    </tr>\n",
              "    <tr>\n",
              "      <th>precision</th>\n",
              "      <td>0.416667</td>\n",
              "      <td>0.164557</td>\n",
              "      <td>0.000000</td>\n",
              "    </tr>\n",
              "    <tr>\n",
              "      <th>recall</th>\n",
              "      <td>0.416667</td>\n",
              "      <td>0.541667</td>\n",
              "      <td>0.000000</td>\n",
              "    </tr>\n",
              "    <tr>\n",
              "      <th>false_alarm</th>\n",
              "      <td>0.113821</td>\n",
              "      <td>0.536585</td>\n",
              "      <td>0.008130</td>\n",
              "    </tr>\n",
              "    <tr>\n",
              "      <th>f1</th>\n",
              "      <td>0.416667</td>\n",
              "      <td>0.252427</td>\n",
              "      <td>0.000000</td>\n",
              "    </tr>\n",
              "  </tbody>\n",
              "</table>\n",
              "</div>\n",
              "      <button class=\"colab-df-convert\" onclick=\"convertToInteractive('df-5652a2ce-0323-4682-b564-d3c710346f8c')\"\n",
              "              title=\"Convert this dataframe to an interactive table.\"\n",
              "              style=\"display:none;\">\n",
              "        \n",
              "  <svg xmlns=\"http://www.w3.org/2000/svg\" height=\"24px\"viewBox=\"0 0 24 24\"\n",
              "       width=\"24px\">\n",
              "    <path d=\"M0 0h24v24H0V0z\" fill=\"none\"/>\n",
              "    <path d=\"M18.56 5.44l.94 2.06.94-2.06 2.06-.94-2.06-.94-.94-2.06-.94 2.06-2.06.94zm-11 1L8.5 8.5l.94-2.06 2.06-.94-2.06-.94L8.5 2.5l-.94 2.06-2.06.94zm10 10l.94 2.06.94-2.06 2.06-.94-2.06-.94-.94-2.06-.94 2.06-2.06.94z\"/><path d=\"M17.41 7.96l-1.37-1.37c-.4-.4-.92-.59-1.43-.59-.52 0-1.04.2-1.43.59L10.3 9.45l-7.72 7.72c-.78.78-.78 2.05 0 2.83L4 21.41c.39.39.9.59 1.41.59.51 0 1.02-.2 1.41-.59l7.78-7.78 2.81-2.81c.8-.78.8-2.07 0-2.86zM5.41 20L4 18.59l7.72-7.72 1.47 1.35L5.41 20z\"/>\n",
              "  </svg>\n",
              "      </button>\n",
              "      \n",
              "  <style>\n",
              "    .colab-df-container {\n",
              "      display:flex;\n",
              "      flex-wrap:wrap;\n",
              "      gap: 12px;\n",
              "    }\n",
              "\n",
              "    .colab-df-convert {\n",
              "      background-color: #E8F0FE;\n",
              "      border: none;\n",
              "      border-radius: 50%;\n",
              "      cursor: pointer;\n",
              "      display: none;\n",
              "      fill: #1967D2;\n",
              "      height: 32px;\n",
              "      padding: 0 0 0 0;\n",
              "      width: 32px;\n",
              "    }\n",
              "\n",
              "    .colab-df-convert:hover {\n",
              "      background-color: #E2EBFA;\n",
              "      box-shadow: 0px 1px 2px rgba(60, 64, 67, 0.3), 0px 1px 3px 1px rgba(60, 64, 67, 0.15);\n",
              "      fill: #174EA6;\n",
              "    }\n",
              "\n",
              "    [theme=dark] .colab-df-convert {\n",
              "      background-color: #3B4455;\n",
              "      fill: #D2E3FC;\n",
              "    }\n",
              "\n",
              "    [theme=dark] .colab-df-convert:hover {\n",
              "      background-color: #434B5C;\n",
              "      box-shadow: 0px 1px 3px 1px rgba(0, 0, 0, 0.15);\n",
              "      filter: drop-shadow(0px 1px 2px rgba(0, 0, 0, 0.3));\n",
              "      fill: #FFFFFF;\n",
              "    }\n",
              "  </style>\n",
              "\n",
              "      <script>\n",
              "        const buttonEl =\n",
              "          document.querySelector('#df-5652a2ce-0323-4682-b564-d3c710346f8c button.colab-df-convert');\n",
              "        buttonEl.style.display =\n",
              "          google.colab.kernel.accessAllowed ? 'block' : 'none';\n",
              "\n",
              "        async function convertToInteractive(key) {\n",
              "          const element = document.querySelector('#df-5652a2ce-0323-4682-b564-d3c710346f8c');\n",
              "          const dataTable =\n",
              "            await google.colab.kernel.invokeFunction('convertToInteractive',\n",
              "                                                     [key], {});\n",
              "          if (!dataTable) return;\n",
              "\n",
              "          const docLinkHtml = 'Like what you see? Visit the ' +\n",
              "            '<a target=\"_blank\" href=https://colab.research.google.com/notebooks/data_table.ipynb>data table notebook</a>'\n",
              "            + ' to learn more about interactive tables.';\n",
              "          element.innerHTML = '';\n",
              "          dataTable['output_type'] = 'display_data';\n",
              "          await google.colab.output.renderOutput(dataTable, element);\n",
              "          const docLink = document.createElement('div');\n",
              "          docLink.innerHTML = docLinkHtml;\n",
              "          element.appendChild(docLink);\n",
              "        }\n",
              "      </script>\n",
              "    </div>\n",
              "  </div>\n",
              "  "
            ],
            "text/plain": [
              "             naive bayes    random  max freq (MonthlyIncome)\n",
              "accuracy        0.809524  0.476190                  0.829932\n",
              "precision       0.416667  0.164557                  0.000000\n",
              "recall          0.416667  0.541667                  0.000000\n",
              "false_alarm     0.113821  0.536585                  0.008130\n",
              "f1              0.416667  0.252427                  0.000000"
            ]
          },
          "metadata": {},
          "execution_count": 578
        }
      ]
    },
    {
      "cell_type": "markdown",
      "source": [
        "In this comparision the best accuracy, precision and f1 is goes to naive bayes random got a better recall rate and the best false alarm goes to my most frequent variable, MonthlyIncome."
      ],
      "metadata": {
        "id": "tz9Mf2eq3vTa"
      }
    },
    {
      "cell_type": "markdown",
      "source": [
        "# Threshold finding"
      ],
      "metadata": {
        "id": "Eb0pyFua4Y2Q"
      }
    },
    {
      "cell_type": "markdown",
      "source": [
        "## T16. Use the following threshold values t = np.arange(-5,5,0.05) find the best accuracy, and F score (and the corresponding thresholds)"
      ],
      "metadata": {
        "id": "4IGPQBK-4bR7"
      }
    },
    {
      "cell_type": "code",
      "source": [
        "_, log_Hx = naive_bayes_histogram(train_set_dc, train_res, test_set_dc, 0)\n",
        "def generate_evaluation_table(log_Hx, thresholds):\n",
        "  evaluation_table = pd.DataFrame({\"threshold\": thresholds, \"accuracy\": np.zeros(thresholds.shape), \n",
        "                                   \"precision\": np.zeros(thresholds.shape), \"recall\": np.zeros(thresholds.shape),\n",
        "                                   \"false_alarm\": np.zeros(thresholds.shape), \"f1\": np.zeros(thresholds.shape)})\n",
        "  for i in range(t.shape[0]):\n",
        "    predict = np.zeros(log_Hx.shape[0])\n",
        "    predict[log_Hx >= thresholds[i]] = 1\n",
        "    evaluation_table.loc[i,[\"accuracy\", \"precision\", \"recall\", \"false_alarm\", \"f1\"]] = evaluation(predict, test_res, False)\n",
        "  return evaluation_table"
      ],
      "metadata": {
        "id": "_-sTcMJvW0I6"
      },
      "execution_count": 579,
      "outputs": []
    },
    {
      "cell_type": "code",
      "source": [
        "_, log_Hx = naive_bayes_histogram(train_set_dc, train_res, test_set_dc, 0)\n",
        "t = np.arange(-5 ,5 ,0.05)\n",
        "evaluation_table_his = generate_evaluation_table(log_Hx, t)\n",
        "evaluation_table_his.head()"
      ],
      "metadata": {
        "colab": {
          "base_uri": "https://localhost:8080/",
          "height": 206
        },
        "id": "cgsRRpFmJP8Q",
        "outputId": "7c40f7f5-0121-4a84-f6be-ab1b351c4375"
      },
      "execution_count": 580,
      "outputs": [
        {
          "output_type": "execute_result",
          "data": {
            "text/html": [
              "\n",
              "  <div id=\"df-c0d1e282-5e01-4120-8287-583ab0b85c3d\">\n",
              "    <div class=\"colab-df-container\">\n",
              "      <div>\n",
              "<style scoped>\n",
              "    .dataframe tbody tr th:only-of-type {\n",
              "        vertical-align: middle;\n",
              "    }\n",
              "\n",
              "    .dataframe tbody tr th {\n",
              "        vertical-align: top;\n",
              "    }\n",
              "\n",
              "    .dataframe thead th {\n",
              "        text-align: right;\n",
              "    }\n",
              "</style>\n",
              "<table border=\"1\" class=\"dataframe\">\n",
              "  <thead>\n",
              "    <tr style=\"text-align: right;\">\n",
              "      <th></th>\n",
              "      <th>threshold</th>\n",
              "      <th>accuracy</th>\n",
              "      <th>precision</th>\n",
              "      <th>recall</th>\n",
              "      <th>false_alarm</th>\n",
              "      <th>f1</th>\n",
              "    </tr>\n",
              "  </thead>\n",
              "  <tbody>\n",
              "    <tr>\n",
              "      <th>0</th>\n",
              "      <td>-5.00</td>\n",
              "      <td>0.421769</td>\n",
              "      <td>0.191919</td>\n",
              "      <td>0.791667</td>\n",
              "      <td>0.650407</td>\n",
              "      <td>0.308943</td>\n",
              "    </tr>\n",
              "    <tr>\n",
              "      <th>1</th>\n",
              "      <td>-4.95</td>\n",
              "      <td>0.421769</td>\n",
              "      <td>0.191919</td>\n",
              "      <td>0.791667</td>\n",
              "      <td>0.650407</td>\n",
              "      <td>0.308943</td>\n",
              "    </tr>\n",
              "    <tr>\n",
              "      <th>2</th>\n",
              "      <td>-4.90</td>\n",
              "      <td>0.421769</td>\n",
              "      <td>0.191919</td>\n",
              "      <td>0.791667</td>\n",
              "      <td>0.650407</td>\n",
              "      <td>0.308943</td>\n",
              "    </tr>\n",
              "    <tr>\n",
              "      <th>3</th>\n",
              "      <td>-4.85</td>\n",
              "      <td>0.421769</td>\n",
              "      <td>0.191919</td>\n",
              "      <td>0.791667</td>\n",
              "      <td>0.650407</td>\n",
              "      <td>0.308943</td>\n",
              "    </tr>\n",
              "    <tr>\n",
              "      <th>4</th>\n",
              "      <td>-4.80</td>\n",
              "      <td>0.421769</td>\n",
              "      <td>0.191919</td>\n",
              "      <td>0.791667</td>\n",
              "      <td>0.650407</td>\n",
              "      <td>0.308943</td>\n",
              "    </tr>\n",
              "  </tbody>\n",
              "</table>\n",
              "</div>\n",
              "      <button class=\"colab-df-convert\" onclick=\"convertToInteractive('df-c0d1e282-5e01-4120-8287-583ab0b85c3d')\"\n",
              "              title=\"Convert this dataframe to an interactive table.\"\n",
              "              style=\"display:none;\">\n",
              "        \n",
              "  <svg xmlns=\"http://www.w3.org/2000/svg\" height=\"24px\"viewBox=\"0 0 24 24\"\n",
              "       width=\"24px\">\n",
              "    <path d=\"M0 0h24v24H0V0z\" fill=\"none\"/>\n",
              "    <path d=\"M18.56 5.44l.94 2.06.94-2.06 2.06-.94-2.06-.94-.94-2.06-.94 2.06-2.06.94zm-11 1L8.5 8.5l.94-2.06 2.06-.94-2.06-.94L8.5 2.5l-.94 2.06-2.06.94zm10 10l.94 2.06.94-2.06 2.06-.94-2.06-.94-.94-2.06-.94 2.06-2.06.94z\"/><path d=\"M17.41 7.96l-1.37-1.37c-.4-.4-.92-.59-1.43-.59-.52 0-1.04.2-1.43.59L10.3 9.45l-7.72 7.72c-.78.78-.78 2.05 0 2.83L4 21.41c.39.39.9.59 1.41.59.51 0 1.02-.2 1.41-.59l7.78-7.78 2.81-2.81c.8-.78.8-2.07 0-2.86zM5.41 20L4 18.59l7.72-7.72 1.47 1.35L5.41 20z\"/>\n",
              "  </svg>\n",
              "      </button>\n",
              "      \n",
              "  <style>\n",
              "    .colab-df-container {\n",
              "      display:flex;\n",
              "      flex-wrap:wrap;\n",
              "      gap: 12px;\n",
              "    }\n",
              "\n",
              "    .colab-df-convert {\n",
              "      background-color: #E8F0FE;\n",
              "      border: none;\n",
              "      border-radius: 50%;\n",
              "      cursor: pointer;\n",
              "      display: none;\n",
              "      fill: #1967D2;\n",
              "      height: 32px;\n",
              "      padding: 0 0 0 0;\n",
              "      width: 32px;\n",
              "    }\n",
              "\n",
              "    .colab-df-convert:hover {\n",
              "      background-color: #E2EBFA;\n",
              "      box-shadow: 0px 1px 2px rgba(60, 64, 67, 0.3), 0px 1px 3px 1px rgba(60, 64, 67, 0.15);\n",
              "      fill: #174EA6;\n",
              "    }\n",
              "\n",
              "    [theme=dark] .colab-df-convert {\n",
              "      background-color: #3B4455;\n",
              "      fill: #D2E3FC;\n",
              "    }\n",
              "\n",
              "    [theme=dark] .colab-df-convert:hover {\n",
              "      background-color: #434B5C;\n",
              "      box-shadow: 0px 1px 3px 1px rgba(0, 0, 0, 0.15);\n",
              "      filter: drop-shadow(0px 1px 2px rgba(0, 0, 0, 0.3));\n",
              "      fill: #FFFFFF;\n",
              "    }\n",
              "  </style>\n",
              "\n",
              "      <script>\n",
              "        const buttonEl =\n",
              "          document.querySelector('#df-c0d1e282-5e01-4120-8287-583ab0b85c3d button.colab-df-convert');\n",
              "        buttonEl.style.display =\n",
              "          google.colab.kernel.accessAllowed ? 'block' : 'none';\n",
              "\n",
              "        async function convertToInteractive(key) {\n",
              "          const element = document.querySelector('#df-c0d1e282-5e01-4120-8287-583ab0b85c3d');\n",
              "          const dataTable =\n",
              "            await google.colab.kernel.invokeFunction('convertToInteractive',\n",
              "                                                     [key], {});\n",
              "          if (!dataTable) return;\n",
              "\n",
              "          const docLinkHtml = 'Like what you see? Visit the ' +\n",
              "            '<a target=\"_blank\" href=https://colab.research.google.com/notebooks/data_table.ipynb>data table notebook</a>'\n",
              "            + ' to learn more about interactive tables.';\n",
              "          element.innerHTML = '';\n",
              "          dataTable['output_type'] = 'display_data';\n",
              "          await google.colab.output.renderOutput(dataTable, element);\n",
              "          const docLink = document.createElement('div');\n",
              "          docLink.innerHTML = docLinkHtml;\n",
              "          element.appendChild(docLink);\n",
              "        }\n",
              "      </script>\n",
              "    </div>\n",
              "  </div>\n",
              "  "
            ],
            "text/plain": [
              "   threshold  accuracy  precision    recall  false_alarm        f1\n",
              "0      -5.00  0.421769   0.191919  0.791667     0.650407  0.308943\n",
              "1      -4.95  0.421769   0.191919  0.791667     0.650407  0.308943\n",
              "2      -4.90  0.421769   0.191919  0.791667     0.650407  0.308943\n",
              "3      -4.85  0.421769   0.191919  0.791667     0.650407  0.308943\n",
              "4      -4.80  0.421769   0.191919  0.791667     0.650407  0.308943"
            ]
          },
          "metadata": {},
          "execution_count": 580
        }
      ]
    },
    {
      "cell_type": "code",
      "source": [
        "best_acc = evaluation_table_his[\"accuracy\"].max()\n",
        "best_f1 = evaluation_table_his[\"f1\"].max()\n",
        "print(\"histogram\")\n",
        "print(\"best accuracy is\", best_acc, \"at threshold\\n\", np.array(evaluation_table_his[evaluation_table_his[\"accuracy\"] == best_acc][\"threshold\"]))\n",
        "print(\"best f1 is\", best_f1, \"at threshold\\n\", np.array(evaluation_table_his[evaluation_table_his[\"f1\"] == best_f1][\"threshold\"]))"
      ],
      "metadata": {
        "colab": {
          "base_uri": "https://localhost:8080/"
        },
        "id": "2c0l5paEJlcz",
        "outputId": "884940f2-0a7d-4d53-d0b9-adc9cdc6a553"
      },
      "execution_count": 602,
      "outputs": [
        {
          "output_type": "stream",
          "name": "stdout",
          "text": [
            "histogram\n",
            "best accuracy is 0.8503401360544217 at threshold\n",
            " [1.35 1.4  1.45 2.25 2.35 2.4  2.45 2.5  2.55 2.6  2.65 2.7  2.75 2.8\n",
            " 2.85 2.9  2.95 3.   3.05 3.1  3.15 4.6 ]\n",
            "best f1 is 0.43333333333333335 at threshold\n",
            " [-0.9]\n"
          ]
        }
      ]
    },
    {
      "cell_type": "markdown",
      "source": [
        "# Receiver Operating Characteristic (RoC) curve"
      ],
      "metadata": {
        "id": "LUkbMNQzHTYp"
      }
    },
    {
      "cell_type": "markdown",
      "source": [
        "## T17. Plot the RoC of your classifier."
      ],
      "metadata": {
        "id": "d0IjQKQTHPL8"
      }
    },
    {
      "cell_type": "code",
      "source": [
        "recalls = evaluation_table_his[\"recall\"]\n",
        "false_alarms = evaluation_table_his[\"false_alarm\"]\n",
        "plt.rcParams[\"figure.figsize\"] = (10,10)\n",
        "plt.plot(false_alarms, recalls)\n",
        "plt.plot([0,1], [0,1])\n",
        "plt.ylabel(\"true positive rate\")\n",
        "plt.xlabel(\"false positive rate\")\n",
        "plt.show()"
      ],
      "metadata": {
        "colab": {
          "base_uri": "https://localhost:8080/",
          "height": 606
        },
        "id": "IHhNoMPtJoht",
        "outputId": "73420417-2a69-48e4-b70b-1fa0d179db4d"
      },
      "execution_count": 582,
      "outputs": [
        {
          "output_type": "display_data",
          "data": {
            "image/png": "[encoded data removed]",
            "text/plain": [
              "<Figure size 720x720 with 1 Axes>"
            ]
          },
          "metadata": {
            "needs_background": "light"
          }
        }
      ]
    },
    {
      "cell_type": "markdown",
      "source": [
        "## T18. Change the number of discretization bins to 5. What happens to the RoC curve? Which discretization is better? The number of discretization bins can be considered as a hyperparameter, and must be chosen by comparing the final performance."
      ],
      "metadata": {
        "id": "WxicB_L9GMs7"
      }
    },
    {
      "cell_type": "code",
      "source": [
        "train_set_dc_5 = discretized(train_set, 5, bin_size_mapper)\n",
        "test_set_dc_5 = discretized(test_set, 5, bin_size_mapper)"
      ],
      "metadata": {
        "id": "jr2WYiB6GUtq"
      },
      "execution_count": 583,
      "outputs": []
    },
    {
      "cell_type": "code",
      "source": [
        "_, log_Hx = naive_bayes_histogram(train_set_dc_5, train_res, test_set_dc_5, 0)\n",
        "t = np.arange(-5 ,5 ,0.05)\n",
        "evaluation_table_his_d5 = generate_evaluation_table(log_Hx, t)\n",
        "evaluation_table_his_d5.head()"
      ],
      "metadata": {
        "colab": {
          "base_uri": "https://localhost:8080/",
          "height": 206
        },
        "id": "a9R58Y_wEpWg",
        "outputId": "c32cccce-3cb3-4e5c-dab6-0199e2a851f9"
      },
      "execution_count": 584,
      "outputs": [
        {
          "output_type": "execute_result",
          "data": {
            "text/html": [
              "\n",
              "  <div id=\"df-60b05400-ac1e-4fca-b04c-53de526c34d3\">\n",
              "    <div class=\"colab-df-container\">\n",
              "      <div>\n",
              "<style scoped>\n",
              "    .dataframe tbody tr th:only-of-type {\n",
              "        vertical-align: middle;\n",
              "    }\n",
              "\n",
              "    .dataframe tbody tr th {\n",
              "        vertical-align: top;\n",
              "    }\n",
              "\n",
              "    .dataframe thead th {\n",
              "        text-align: right;\n",
              "    }\n",
              "</style>\n",
              "<table border=\"1\" class=\"dataframe\">\n",
              "  <thead>\n",
              "    <tr style=\"text-align: right;\">\n",
              "      <th></th>\n",
              "      <th>threshold</th>\n",
              "      <th>accuracy</th>\n",
              "      <th>precision</th>\n",
              "      <th>recall</th>\n",
              "      <th>false_alarm</th>\n",
              "      <th>f1</th>\n",
              "    </tr>\n",
              "  </thead>\n",
              "  <tbody>\n",
              "    <tr>\n",
              "      <th>0</th>\n",
              "      <td>-5.00</td>\n",
              "      <td>0.367347</td>\n",
              "      <td>0.177570</td>\n",
              "      <td>0.791667</td>\n",
              "      <td>0.715447</td>\n",
              "      <td>0.290076</td>\n",
              "    </tr>\n",
              "    <tr>\n",
              "      <th>1</th>\n",
              "      <td>-4.95</td>\n",
              "      <td>0.367347</td>\n",
              "      <td>0.177570</td>\n",
              "      <td>0.791667</td>\n",
              "      <td>0.715447</td>\n",
              "      <td>0.290076</td>\n",
              "    </tr>\n",
              "    <tr>\n",
              "      <th>2</th>\n",
              "      <td>-4.90</td>\n",
              "      <td>0.374150</td>\n",
              "      <td>0.179245</td>\n",
              "      <td>0.791667</td>\n",
              "      <td>0.707317</td>\n",
              "      <td>0.292308</td>\n",
              "    </tr>\n",
              "    <tr>\n",
              "      <th>3</th>\n",
              "      <td>-4.85</td>\n",
              "      <td>0.380952</td>\n",
              "      <td>0.180952</td>\n",
              "      <td>0.791667</td>\n",
              "      <td>0.699187</td>\n",
              "      <td>0.294574</td>\n",
              "    </tr>\n",
              "    <tr>\n",
              "      <th>4</th>\n",
              "      <td>-4.80</td>\n",
              "      <td>0.387755</td>\n",
              "      <td>0.182692</td>\n",
              "      <td>0.791667</td>\n",
              "      <td>0.691057</td>\n",
              "      <td>0.296875</td>\n",
              "    </tr>\n",
              "  </tbody>\n",
              "</table>\n",
              "</div>\n",
              "      <button class=\"colab-df-convert\" onclick=\"convertToInteractive('df-60b05400-ac1e-4fca-b04c-53de526c34d3')\"\n",
              "              title=\"Convert this dataframe to an interactive table.\"\n",
              "              style=\"display:none;\">\n",
              "        \n",
              "  <svg xmlns=\"http://www.w3.org/2000/svg\" height=\"24px\"viewBox=\"0 0 24 24\"\n",
              "       width=\"24px\">\n",
              "    <path d=\"M0 0h24v24H0V0z\" fill=\"none\"/>\n",
              "    <path d=\"M18.56 5.44l.94 2.06.94-2.06 2.06-.94-2.06-.94-.94-2.06-.94 2.06-2.06.94zm-11 1L8.5 8.5l.94-2.06 2.06-.94-2.06-.94L8.5 2.5l-.94 2.06-2.06.94zm10 10l.94 2.06.94-2.06 2.06-.94-2.06-.94-.94-2.06-.94 2.06-2.06.94z\"/><path d=\"M17.41 7.96l-1.37-1.37c-.4-.4-.92-.59-1.43-.59-.52 0-1.04.2-1.43.59L10.3 9.45l-7.72 7.72c-.78.78-.78 2.05 0 2.83L4 21.41c.39.39.9.59 1.41.59.51 0 1.02-.2 1.41-.59l7.78-7.78 2.81-2.81c.8-.78.8-2.07 0-2.86zM5.41 20L4 18.59l7.72-7.72 1.47 1.35L5.41 20z\"/>\n",
              "  </svg>\n",
              "      </button>\n",
              "      \n",
              "  <style>\n",
              "    .colab-df-container {\n",
              "      display:flex;\n",
              "      flex-wrap:wrap;\n",
              "      gap: 12px;\n",
              "    }\n",
              "\n",
              "    .colab-df-convert {\n",
              "      background-color: #E8F0FE;\n",
              "      border: none;\n",
              "      border-radius: 50%;\n",
              "      cursor: pointer;\n",
              "      display: none;\n",
              "      fill: #1967D2;\n",
              "      height: 32px;\n",
              "      padding: 0 0 0 0;\n",
              "      width: 32px;\n",
              "    }\n",
              "\n",
              "    .colab-df-convert:hover {\n",
              "      background-color: #E2EBFA;\n",
              "      box-shadow: 0px 1px 2px rgba(60, 64, 67, 0.3), 0px 1px 3px 1px rgba(60, 64, 67, 0.15);\n",
              "      fill: #174EA6;\n",
              "    }\n",
              "\n",
              "    [theme=dark] .colab-df-convert {\n",
              "      background-color: #3B4455;\n",
              "      fill: #D2E3FC;\n",
              "    }\n",
              "\n",
              "    [theme=dark] .colab-df-convert:hover {\n",
              "      background-color: #434B5C;\n",
              "      box-shadow: 0px 1px 3px 1px rgba(0, 0, 0, 0.15);\n",
              "      filter: drop-shadow(0px 1px 2px rgba(0, 0, 0, 0.3));\n",
              "      fill: #FFFFFF;\n",
              "    }\n",
              "  </style>\n",
              "\n",
              "      <script>\n",
              "        const buttonEl =\n",
              "          document.querySelector('#df-60b05400-ac1e-4fca-b04c-53de526c34d3 button.colab-df-convert');\n",
              "        buttonEl.style.display =\n",
              "          google.colab.kernel.accessAllowed ? 'block' : 'none';\n",
              "\n",
              "        async function convertToInteractive(key) {\n",
              "          const element = document.querySelector('#df-60b05400-ac1e-4fca-b04c-53de526c34d3');\n",
              "          const dataTable =\n",
              "            await google.colab.kernel.invokeFunction('convertToInteractive',\n",
              "                                                     [key], {});\n",
              "          if (!dataTable) return;\n",
              "\n",
              "          const docLinkHtml = 'Like what you see? Visit the ' +\n",
              "            '<a target=\"_blank\" href=https://colab.research.google.com/notebooks/data_table.ipynb>data table notebook</a>'\n",
              "            + ' to learn more about interactive tables.';\n",
              "          element.innerHTML = '';\n",
              "          dataTable['output_type'] = 'display_data';\n",
              "          await google.colab.output.renderOutput(dataTable, element);\n",
              "          const docLink = document.createElement('div');\n",
              "          docLink.innerHTML = docLinkHtml;\n",
              "          element.appendChild(docLink);\n",
              "        }\n",
              "      </script>\n",
              "    </div>\n",
              "  </div>\n",
              "  "
            ],
            "text/plain": [
              "   threshold  accuracy  precision    recall  false_alarm        f1\n",
              "0      -5.00  0.367347   0.177570  0.791667     0.715447  0.290076\n",
              "1      -4.95  0.367347   0.177570  0.791667     0.715447  0.290076\n",
              "2      -4.90  0.374150   0.179245  0.791667     0.707317  0.292308\n",
              "3      -4.85  0.380952   0.180952  0.791667     0.699187  0.294574\n",
              "4      -4.80  0.387755   0.182692  0.791667     0.691057  0.296875"
            ]
          },
          "metadata": {},
          "execution_count": 584
        }
      ]
    },
    {
      "cell_type": "code",
      "source": [
        "best_acc = evaluation_table_his_d5[\"accuracy\"].max()\n",
        "best_f1 = evaluation_table_his_d5[\"f1\"].max()\n",
        "print(\"histogram\")\n",
        "print(\"best accuracy is\", best_acc, \"at threshold\\n\", np.array(evaluation_table_his_d5[evaluation_table_his_d5[\"accuracy\"] == best_acc][\"threshold\"]))\n",
        "print(\"best f1 is\", best_f1, \"at threshold\\n\", np.array(evaluation_table_his_d5[evaluation_table_his_d5[\"f1\"] == best_f1][\"threshold\"]))"
      ],
      "metadata": {
        "colab": {
          "base_uri": "https://localhost:8080/"
        },
        "id": "S3chLDY3G0xM",
        "outputId": "b1167d6f-1eab-47af-b4dc-0ade18fa98a4"
      },
      "execution_count": 603,
      "outputs": [
        {
          "output_type": "stream",
          "name": "stdout",
          "text": [
            "histogram\n",
            "best accuracy is 0.8435374149659864 at threshold\n",
            " [2.7  2.75 2.8  2.85 2.9  2.95 3.   3.05 3.1  4.3  4.35 4.4  4.45 4.5\n",
            " 4.55 4.6  4.65 4.7  4.75 4.8  4.85 4.9  4.95]\n",
            "best f1 is 0.4583333333333333 at threshold\n",
            " [0.45 0.5  0.55 0.6  0.65]\n"
          ]
        }
      ]
    },
    {
      "cell_type": "code",
      "source": [
        "recalls_d5 = evaluation_table_his_d5[\"recall\"]\n",
        "false_alarms_d5 = evaluation_table_his_d5[\"false_alarm\"]\n",
        "plt.plot(false_alarms_d5, recalls_d5)\n",
        "plt.plot([0,1], [0,1])\n",
        "plt.ylabel(\"true positive rate\")\n",
        "plt.xlabel(\"false positive rate\")\n",
        "plt.show()"
      ],
      "metadata": {
        "colab": {
          "base_uri": "https://localhost:8080/",
          "height": 606
        },
        "id": "14H7LvILGtTe",
        "outputId": "f2f2063d-d0a8-4d41-c96f-1672b46bddf9"
      },
      "execution_count": 586,
      "outputs": [
        {
          "output_type": "display_data",
          "data": {
            "image/png": "[encoded data removed]",
            "text/plain": [
              "<Figure size 720x720 with 1 Axes>"
            ]
          },
          "metadata": {
            "needs_background": "light"
          }
        }
      ]
    },
    {
      "cell_type": "code",
      "source": [
        "plt.plot(false_alarms, recalls, label=\"10bins\")\n",
        "plt.plot(false_alarms_d5, recalls_d5, label=\"5bins\")\n",
        "plt.plot([0,1], [0,1])\n",
        "plt.ylabel(\"true positive rate\")\n",
        "plt.xlabel(\"false positive rate\")\n",
        "plt.legend()\n",
        "plt.show()"
      ],
      "metadata": {
        "colab": {
          "base_uri": "https://localhost:8080/",
          "height": 606
        },
        "id": "a3T6B5wRR9TX",
        "outputId": "7d3071a4-d33f-4e0e-b777-b2801e92f427"
      },
      "execution_count": 587,
      "outputs": [
        {
          "output_type": "display_data",
          "data": {
            "image/png": "[encoded data removed]",
            "text/plain": [
              "<Figure size 720x720 with 1 Axes>"
            ]
          },
          "metadata": {
            "needs_background": "light"
          }
        }
      ]
    },
    {
      "cell_type": "code",
      "source": [
        "(recalls/(false_alarms + 1e-3) > recalls_d5/(false_alarms_d5)).value_counts()"
      ],
      "metadata": {
        "colab": {
          "base_uri": "https://localhost:8080/"
        },
        "id": "x5h_gegmsAGx",
        "outputId": "6e32bf10-7a35-47a2-c841-7d4b38bcd487"
      },
      "execution_count": 588,
      "outputs": [
        {
          "output_type": "execute_result",
          "data": {
            "text/plain": [
              "True     158\n",
              "False     42\n",
              "dtype: int64"
            ]
          },
          "metadata": {},
          "execution_count": 588
        }
      ]
    },
    {
      "cell_type": "markdown",
      "source": [
        "In comparing tp rate/fp rate point by point it appear that bin size = 10 has a better performance, however if we keep increase bin size the performance may could drop since the size of data is not enough for the increasingly bin size, but for ideal size (very large data size) we can implies from this result that higher bin size but not too frequent size."
      ],
      "metadata": {
        "id": "fUyBFxuNrwBt"
      }
    },
    {
      "cell_type": "markdown",
      "source": [
        "# Classifier Variance"
      ],
      "metadata": {
        "id": "Fcu6u8O9mwis"
      }
    },
    {
      "cell_type": "markdown",
      "source": [
        "\n",
        "## OT3. Shuffle the database, and create new test and train sets. Redo the entire training and evaluation process 10 times (each time with a new training and test set). Calculate the mean and variance of the accuracy rate."
      ],
      "metadata": {
        "id": "1HItvA4SPxdA"
      }
    },
    {
      "cell_type": "code",
      "source": [
        "shuffle_table = pd.DataFrame({\"random_seed\": np.arange(10), \"accuracy\": np.zeros(10), \n",
        "                                   \"precision\": np.zeros(10), \"recall\": np.zeros(10),\n",
        "                                   \"false_alarm\": np.zeros(10), \"f1\": np.zeros(10)})\n",
        "shuffle_table = shuffle_table.set_index(\"random_seed\")\n",
        "e_tables = []\n",
        "for i in range(10):\n",
        "  train_set,test_set,train_res,test_res = train_test_split(X,y,stratify=y,test_size=0.10, random_state=i)\n",
        "  i_train_set_dc = discretized(train_set, 5, bin_size_mapper)\n",
        "  i_test_set_dc = discretized(test_set, 5, bin_size_mapper)\n",
        "  prediction, log_Hx = naive_bayes_histogram(i_train_set_dc, train_res, i_test_set_dc)\n",
        "  e_tables.append(generate_evaluation_table(log_Hx, t))\n",
        "  shuffle_table.loc[i,[\"accuracy\", \"precision\", \"recall\", \"false_alarm\", \"f1\"]] = evaluation(prediction, test_res, False)\n",
        "shuffle_table"
      ],
      "metadata": {
        "colab": {
          "base_uri": "https://localhost:8080/",
          "height": 394
        },
        "id": "fis_XXb6X-h4",
        "outputId": "465172a1-ac7b-49ac-95d0-720d45bc7e29"
      },
      "execution_count": 589,
      "outputs": [
        {
          "output_type": "execute_result",
          "data": {
            "text/html": [
              "\n",
              "  <div id=\"df-b4d31d6d-b668-48aa-94c1-e94c7c0d5b6a\">\n",
              "    <div class=\"colab-df-container\">\n",
              "      <div>\n",
              "<style scoped>\n",
              "    .dataframe tbody tr th:only-of-type {\n",
              "        vertical-align: middle;\n",
              "    }\n",
              "\n",
              "    .dataframe tbody tr th {\n",
              "        vertical-align: top;\n",
              "    }\n",
              "\n",
              "    .dataframe thead th {\n",
              "        text-align: right;\n",
              "    }\n",
              "</style>\n",
              "<table border=\"1\" class=\"dataframe\">\n",
              "  <thead>\n",
              "    <tr style=\"text-align: right;\">\n",
              "      <th></th>\n",
              "      <th>accuracy</th>\n",
              "      <th>precision</th>\n",
              "      <th>recall</th>\n",
              "      <th>false_alarm</th>\n",
              "      <th>f1</th>\n",
              "    </tr>\n",
              "    <tr>\n",
              "      <th>random_seed</th>\n",
              "      <th></th>\n",
              "      <th></th>\n",
              "      <th></th>\n",
              "      <th></th>\n",
              "      <th></th>\n",
              "    </tr>\n",
              "  </thead>\n",
              "  <tbody>\n",
              "    <tr>\n",
              "      <th>0</th>\n",
              "      <td>0.789116</td>\n",
              "      <td>0.333333</td>\n",
              "      <td>0.291667</td>\n",
              "      <td>0.113821</td>\n",
              "      <td>0.311111</td>\n",
              "    </tr>\n",
              "    <tr>\n",
              "      <th>1</th>\n",
              "      <td>0.850340</td>\n",
              "      <td>0.531250</td>\n",
              "      <td>0.708333</td>\n",
              "      <td>0.121951</td>\n",
              "      <td>0.607143</td>\n",
              "    </tr>\n",
              "    <tr>\n",
              "      <th>2</th>\n",
              "      <td>0.775510</td>\n",
              "      <td>0.354839</td>\n",
              "      <td>0.458333</td>\n",
              "      <td>0.162602</td>\n",
              "      <td>0.400000</td>\n",
              "    </tr>\n",
              "    <tr>\n",
              "      <th>3</th>\n",
              "      <td>0.802721</td>\n",
              "      <td>0.400000</td>\n",
              "      <td>0.416667</td>\n",
              "      <td>0.121951</td>\n",
              "      <td>0.408163</td>\n",
              "    </tr>\n",
              "    <tr>\n",
              "      <th>4</th>\n",
              "      <td>0.843537</td>\n",
              "      <td>0.520000</td>\n",
              "      <td>0.541667</td>\n",
              "      <td>0.097561</td>\n",
              "      <td>0.530612</td>\n",
              "    </tr>\n",
              "    <tr>\n",
              "      <th>5</th>\n",
              "      <td>0.802721</td>\n",
              "      <td>0.391304</td>\n",
              "      <td>0.375000</td>\n",
              "      <td>0.113821</td>\n",
              "      <td>0.382979</td>\n",
              "    </tr>\n",
              "    <tr>\n",
              "      <th>6</th>\n",
              "      <td>0.789116</td>\n",
              "      <td>0.393939</td>\n",
              "      <td>0.541667</td>\n",
              "      <td>0.162602</td>\n",
              "      <td>0.456140</td>\n",
              "    </tr>\n",
              "    <tr>\n",
              "      <th>7</th>\n",
              "      <td>0.823129</td>\n",
              "      <td>0.454545</td>\n",
              "      <td>0.416667</td>\n",
              "      <td>0.097561</td>\n",
              "      <td>0.434783</td>\n",
              "    </tr>\n",
              "    <tr>\n",
              "      <th>8</th>\n",
              "      <td>0.802721</td>\n",
              "      <td>0.413793</td>\n",
              "      <td>0.500000</td>\n",
              "      <td>0.138211</td>\n",
              "      <td>0.452830</td>\n",
              "    </tr>\n",
              "    <tr>\n",
              "      <th>9</th>\n",
              "      <td>0.795918</td>\n",
              "      <td>0.350000</td>\n",
              "      <td>0.291667</td>\n",
              "      <td>0.105691</td>\n",
              "      <td>0.318182</td>\n",
              "    </tr>\n",
              "  </tbody>\n",
              "</table>\n",
              "</div>\n",
              "      <button class=\"colab-df-convert\" onclick=\"convertToInteractive('df-b4d31d6d-b668-48aa-94c1-e94c7c0d5b6a')\"\n",
              "              title=\"Convert this dataframe to an interactive table.\"\n",
              "              style=\"display:none;\">\n",
              "        \n",
              "  <svg xmlns=\"http://www.w3.org/2000/svg\" height=\"24px\"viewBox=\"0 0 24 24\"\n",
              "       width=\"24px\">\n",
              "    <path d=\"M0 0h24v24H0V0z\" fill=\"none\"/>\n",
              "    <path d=\"M18.56 5.44l.94 2.06.94-2.06 2.06-.94-2.06-.94-.94-2.06-.94 2.06-2.06.94zm-11 1L8.5 8.5l.94-2.06 2.06-.94-2.06-.94L8.5 2.5l-.94 2.06-2.06.94zm10 10l.94 2.06.94-2.06 2.06-.94-2.06-.94-.94-2.06-.94 2.06-2.06.94z\"/><path d=\"M17.41 7.96l-1.37-1.37c-.4-.4-.92-.59-1.43-.59-.52 0-1.04.2-1.43.59L10.3 9.45l-7.72 7.72c-.78.78-.78 2.05 0 2.83L4 21.41c.39.39.9.59 1.41.59.51 0 1.02-.2 1.41-.59l7.78-7.78 2.81-2.81c.8-.78.8-2.07 0-2.86zM5.41 20L4 18.59l7.72-7.72 1.47 1.35L5.41 20z\"/>\n",
              "  </svg>\n",
              "      </button>\n",
              "      \n",
              "  <style>\n",
              "    .colab-df-container {\n",
              "      display:flex;\n",
              "      flex-wrap:wrap;\n",
              "      gap: 12px;\n",
              "    }\n",
              "\n",
              "    .colab-df-convert {\n",
              "      background-color: #E8F0FE;\n",
              "      border: none;\n",
              "      border-radius: 50%;\n",
              "      cursor: pointer;\n",
              "      display: none;\n",
              "      fill: #1967D2;\n",
              "      height: 32px;\n",
              "      padding: 0 0 0 0;\n",
              "      width: 32px;\n",
              "    }\n",
              "\n",
              "    .colab-df-convert:hover {\n",
              "      background-color: #E2EBFA;\n",
              "      box-shadow: 0px 1px 2px rgba(60, 64, 67, 0.3), 0px 1px 3px 1px rgba(60, 64, 67, 0.15);\n",
              "      fill: #174EA6;\n",
              "    }\n",
              "\n",
              "    [theme=dark] .colab-df-convert {\n",
              "      background-color: #3B4455;\n",
              "      fill: #D2E3FC;\n",
              "    }\n",
              "\n",
              "    [theme=dark] .colab-df-convert:hover {\n",
              "      background-color: #434B5C;\n",
              "      box-shadow: 0px 1px 3px 1px rgba(0, 0, 0, 0.15);\n",
              "      filter: drop-shadow(0px 1px 2px rgba(0, 0, 0, 0.3));\n",
              "      fill: #FFFFFF;\n",
              "    }\n",
              "  </style>\n",
              "\n",
              "      <script>\n",
              "        const buttonEl =\n",
              "          document.querySelector('#df-b4d31d6d-b668-48aa-94c1-e94c7c0d5b6a button.colab-df-convert');\n",
              "        buttonEl.style.display =\n",
              "          google.colab.kernel.accessAllowed ? 'block' : 'none';\n",
              "\n",
              "        async function convertToInteractive(key) {\n",
              "          const element = document.querySelector('#df-b4d31d6d-b668-48aa-94c1-e94c7c0d5b6a');\n",
              "          const dataTable =\n",
              "            await google.colab.kernel.invokeFunction('convertToInteractive',\n",
              "                                                     [key], {});\n",
              "          if (!dataTable) return;\n",
              "\n",
              "          const docLinkHtml = 'Like what you see? Visit the ' +\n",
              "            '<a target=\"_blank\" href=https://colab.research.google.com/notebooks/data_table.ipynb>data table notebook</a>'\n",
              "            + ' to learn more about interactive tables.';\n",
              "          element.innerHTML = '';\n",
              "          dataTable['output_type'] = 'display_data';\n",
              "          await google.colab.output.renderOutput(dataTable, element);\n",
              "          const docLink = document.createElement('div');\n",
              "          docLink.innerHTML = docLinkHtml;\n",
              "          element.appendChild(docLink);\n",
              "        }\n",
              "      </script>\n",
              "    </div>\n",
              "  </div>\n",
              "  "
            ],
            "text/plain": [
              "             accuracy  precision    recall  false_alarm        f1\n",
              "random_seed                                                      \n",
              "0            0.789116   0.333333  0.291667     0.113821  0.311111\n",
              "1            0.850340   0.531250  0.708333     0.121951  0.607143\n",
              "2            0.775510   0.354839  0.458333     0.162602  0.400000\n",
              "3            0.802721   0.400000  0.416667     0.121951  0.408163\n",
              "4            0.843537   0.520000  0.541667     0.097561  0.530612\n",
              "5            0.802721   0.391304  0.375000     0.113821  0.382979\n",
              "6            0.789116   0.393939  0.541667     0.162602  0.456140\n",
              "7            0.823129   0.454545  0.416667     0.097561  0.434783\n",
              "8            0.802721   0.413793  0.500000     0.138211  0.452830\n",
              "9            0.795918   0.350000  0.291667     0.105691  0.318182"
            ]
          },
          "metadata": {},
          "execution_count": 589
        }
      ]
    },
    {
      "cell_type": "code",
      "source": [
        "shuffle_table.agg([\"mean\", \"var\"])"
      ],
      "metadata": {
        "colab": {
          "base_uri": "https://localhost:8080/",
          "height": 112
        },
        "id": "36p_SbSXagnC",
        "outputId": "0bb10f2c-dfbb-43eb-c559-c70e4e050fe0"
      },
      "execution_count": 590,
      "outputs": [
        {
          "output_type": "execute_result",
          "data": {
            "text/html": [
              "\n",
              "  <div id=\"df-117d7601-630f-4c85-9d86-a6bd2988e62d\">\n",
              "    <div class=\"colab-df-container\">\n",
              "      <div>\n",
              "<style scoped>\n",
              "    .dataframe tbody tr th:only-of-type {\n",
              "        vertical-align: middle;\n",
              "    }\n",
              "\n",
              "    .dataframe tbody tr th {\n",
              "        vertical-align: top;\n",
              "    }\n",
              "\n",
              "    .dataframe thead th {\n",
              "        text-align: right;\n",
              "    }\n",
              "</style>\n",
              "<table border=\"1\" class=\"dataframe\">\n",
              "  <thead>\n",
              "    <tr style=\"text-align: right;\">\n",
              "      <th></th>\n",
              "      <th>accuracy</th>\n",
              "      <th>precision</th>\n",
              "      <th>recall</th>\n",
              "      <th>false_alarm</th>\n",
              "      <th>f1</th>\n",
              "    </tr>\n",
              "  </thead>\n",
              "  <tbody>\n",
              "    <tr>\n",
              "      <th>mean</th>\n",
              "      <td>0.807483</td>\n",
              "      <td>0.414300</td>\n",
              "      <td>0.454167</td>\n",
              "      <td>0.123577</td>\n",
              "      <td>0.430194</td>\n",
              "    </tr>\n",
              "    <tr>\n",
              "      <th>var</th>\n",
              "      <td>0.000587</td>\n",
              "      <td>0.004649</td>\n",
              "      <td>0.015992</td>\n",
              "      <td>0.000570</td>\n",
              "      <td>0.008106</td>\n",
              "    </tr>\n",
              "  </tbody>\n",
              "</table>\n",
              "</div>\n",
              "      <button class=\"colab-df-convert\" onclick=\"convertToInteractive('df-117d7601-630f-4c85-9d86-a6bd2988e62d')\"\n",
              "              title=\"Convert this dataframe to an interactive table.\"\n",
              "              style=\"display:none;\">\n",
              "        \n",
              "  <svg xmlns=\"http://www.w3.org/2000/svg\" height=\"24px\"viewBox=\"0 0 24 24\"\n",
              "       width=\"24px\">\n",
              "    <path d=\"M0 0h24v24H0V0z\" fill=\"none\"/>\n",
              "    <path d=\"M18.56 5.44l.94 2.06.94-2.06 2.06-.94-2.06-.94-.94-2.06-.94 2.06-2.06.94zm-11 1L8.5 8.5l.94-2.06 2.06-.94-2.06-.94L8.5 2.5l-.94 2.06-2.06.94zm10 10l.94 2.06.94-2.06 2.06-.94-2.06-.94-.94-2.06-.94 2.06-2.06.94z\"/><path d=\"M17.41 7.96l-1.37-1.37c-.4-.4-.92-.59-1.43-.59-.52 0-1.04.2-1.43.59L10.3 9.45l-7.72 7.72c-.78.78-.78 2.05 0 2.83L4 21.41c.39.39.9.59 1.41.59.51 0 1.02-.2 1.41-.59l7.78-7.78 2.81-2.81c.8-.78.8-2.07 0-2.86zM5.41 20L4 18.59l7.72-7.72 1.47 1.35L5.41 20z\"/>\n",
              "  </svg>\n",
              "      </button>\n",
              "      \n",
              "  <style>\n",
              "    .colab-df-container {\n",
              "      display:flex;\n",
              "      flex-wrap:wrap;\n",
              "      gap: 12px;\n",
              "    }\n",
              "\n",
              "    .colab-df-convert {\n",
              "      background-color: #E8F0FE;\n",
              "      border: none;\n",
              "      border-radius: 50%;\n",
              "      cursor: pointer;\n",
              "      display: none;\n",
              "      fill: #1967D2;\n",
              "      height: 32px;\n",
              "      padding: 0 0 0 0;\n",
              "      width: 32px;\n",
              "    }\n",
              "\n",
              "    .colab-df-convert:hover {\n",
              "      background-color: #E2EBFA;\n",
              "      box-shadow: 0px 1px 2px rgba(60, 64, 67, 0.3), 0px 1px 3px 1px rgba(60, 64, 67, 0.15);\n",
              "      fill: #174EA6;\n",
              "    }\n",
              "\n",
              "    [theme=dark] .colab-df-convert {\n",
              "      background-color: #3B4455;\n",
              "      fill: #D2E3FC;\n",
              "    }\n",
              "\n",
              "    [theme=dark] .colab-df-convert:hover {\n",
              "      background-color: #434B5C;\n",
              "      box-shadow: 0px 1px 3px 1px rgba(0, 0, 0, 0.15);\n",
              "      filter: drop-shadow(0px 1px 2px rgba(0, 0, 0, 0.3));\n",
              "      fill: #FFFFFF;\n",
              "    }\n",
              "  </style>\n",
              "\n",
              "      <script>\n",
              "        const buttonEl =\n",
              "          document.querySelector('#df-117d7601-630f-4c85-9d86-a6bd2988e62d button.colab-df-convert');\n",
              "        buttonEl.style.display =\n",
              "          google.colab.kernel.accessAllowed ? 'block' : 'none';\n",
              "\n",
              "        async function convertToInteractive(key) {\n",
              "          const element = document.querySelector('#df-117d7601-630f-4c85-9d86-a6bd2988e62d');\n",
              "          const dataTable =\n",
              "            await google.colab.kernel.invokeFunction('convertToInteractive',\n",
              "                                                     [key], {});\n",
              "          if (!dataTable) return;\n",
              "\n",
              "          const docLinkHtml = 'Like what you see? Visit the ' +\n",
              "            '<a target=\"_blank\" href=https://colab.research.google.com/notebooks/data_table.ipynb>data table notebook</a>'\n",
              "            + ' to learn more about interactive tables.';\n",
              "          element.innerHTML = '';\n",
              "          dataTable['output_type'] = 'display_data';\n",
              "          await google.colab.output.renderOutput(dataTable, element);\n",
              "          const docLink = document.createElement('div');\n",
              "          docLink.innerHTML = docLinkHtml;\n",
              "          element.appendChild(docLink);\n",
              "        }\n",
              "      </script>\n",
              "    </div>\n",
              "  </div>\n",
              "  "
            ],
            "text/plain": [
              "      accuracy  precision    recall  false_alarm        f1\n",
              "mean  0.807483   0.414300  0.454167     0.123577  0.430194\n",
              "var   0.000587   0.004649  0.015992     0.000570  0.008106"
            ]
          },
          "metadata": {},
          "execution_count": 590
        }
      ]
    },
    {
      "cell_type": "code",
      "source": [
        "for i in range(10):\n",
        "  table = e_tables[i]\n",
        "  recalls = table[\"recall\"]\n",
        "  false_alarms = table[\"false_alarm\"]\n",
        "  plt.plot(false_alarms, recalls, label=\"random seed\" + str(10))\n",
        "plt.legend()\n",
        "plt.plot([0,1], [0,1])\n",
        "plt.show()"
      ],
      "metadata": {
        "colab": {
          "base_uri": "https://localhost:8080/",
          "height": 592
        },
        "id": "Ll9GLNDzceWB",
        "outputId": "48968e9c-b393-4e2f-e109-4d756b134c7a"
      },
      "execution_count": 591,
      "outputs": [
        {
          "output_type": "display_data",
          "data": {
            "image/png": "[encoded data removed]",
            "text/plain": [
              "<Figure size 720x720 with 1 Axes>"
            ]
          },
          "metadata": {
            "needs_background": "light"
          }
        }
      ]
    }
  ]
}